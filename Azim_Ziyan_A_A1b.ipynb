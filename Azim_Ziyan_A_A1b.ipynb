{
 "cells": [
  {
   "cell_type": "code",
   "execution_count": 1,
   "id": "9d35296f",
   "metadata": {
    "ExecuteTime": {
     "end_time": "2024-06-17T18:40:55.517191Z",
     "start_time": "2024-06-17T18:40:55.501554Z"
    }
   },
   "outputs": [],
   "source": [
    "import os\n",
    "import pandas as pd\n",
    "import numpy as np\n",
    "import matplotlib.pyplot as plt\n",
    "import seaborn as sns"
   ]
  },
  {
   "cell_type": "code",
   "execution_count": 2,
   "id": "ccea5d65",
   "metadata": {
    "ExecuteTime": {
     "end_time": "2024-06-17T18:41:02.872798Z",
     "start_time": "2024-06-17T18:41:02.864783Z"
    }
   },
   "outputs": [],
   "source": [
    "os.chdir('D://SCMA//Data')"
   ]
  },
  {
   "cell_type": "code",
   "execution_count": 3,
   "id": "4e18af9c",
   "metadata": {
    "ExecuteTime": {
     "end_time": "2024-06-17T18:45:43.893820Z",
     "start_time": "2024-06-17T18:45:41.588693Z"
    }
   },
   "outputs": [],
   "source": [
    "ipl_bbb = pd.read_csv('IPL_ball_by_ball_updated till 2024.csv',low_memory=False)"
   ]
  },
  {
   "cell_type": "code",
   "execution_count": 4,
   "id": "c9f1dae5",
   "metadata": {
    "ExecuteTime": {
     "end_time": "2024-06-17T18:42:45.099983Z",
     "start_time": "2024-06-17T18:42:44.158183Z"
    }
   },
   "outputs": [],
   "source": [
    "ipl_salary = pd.read_excel('IPL SALARIES 2024.xlsx')"
   ]
  },
  {
   "cell_type": "code",
   "execution_count": 5,
   "id": "890ec4e9",
   "metadata": {
    "ExecuteTime": {
     "end_time": "2024-06-17T20:11:18.415809Z",
     "start_time": "2024-06-17T20:11:18.401437Z"
    }
   },
   "outputs": [
    {
     "data": {
      "text/html": [
       "<div>\n",
       "<style scoped>\n",
       "    .dataframe tbody tr th:only-of-type {\n",
       "        vertical-align: middle;\n",
       "    }\n",
       "\n",
       "    .dataframe tbody tr th {\n",
       "        vertical-align: top;\n",
       "    }\n",
       "\n",
       "    .dataframe thead th {\n",
       "        text-align: right;\n",
       "    }\n",
       "</style>\n",
       "<table border=\"1\" class=\"dataframe\">\n",
       "  <thead>\n",
       "    <tr style=\"text-align: right;\">\n",
       "      <th></th>\n",
       "      <th>Player</th>\n",
       "      <th>Salary</th>\n",
       "      <th>Rs</th>\n",
       "      <th>international</th>\n",
       "      <th>iconic</th>\n",
       "    </tr>\n",
       "  </thead>\n",
       "  <tbody>\n",
       "    <tr>\n",
       "      <th>0</th>\n",
       "      <td>Abhishek Porel</td>\n",
       "      <td>20 lakh</td>\n",
       "      <td>20</td>\n",
       "      <td>0</td>\n",
       "      <td>NaN</td>\n",
       "    </tr>\n",
       "    <tr>\n",
       "      <th>1</th>\n",
       "      <td>Anrich Nortje</td>\n",
       "      <td>6.5 crore</td>\n",
       "      <td>650</td>\n",
       "      <td>1</td>\n",
       "      <td>NaN</td>\n",
       "    </tr>\n",
       "  </tbody>\n",
       "</table>\n",
       "</div>"
      ],
      "text/plain": [
       "           Player     Salary   Rs  international  iconic\n",
       "0  Abhishek Porel    20 lakh   20              0     NaN\n",
       "1   Anrich Nortje  6.5 crore  650              1     NaN"
      ]
     },
     "execution_count": 5,
     "metadata": {},
     "output_type": "execute_result"
    }
   ],
   "source": [
    "ipl_salary.head(2)"
   ]
  },
  {
   "cell_type": "code",
   "execution_count": 6,
   "id": "00ad1fbf",
   "metadata": {
    "ExecuteTime": {
     "end_time": "2024-06-17T18:47:30.678527Z",
     "start_time": "2024-06-17T18:47:30.373074Z"
    }
   },
   "outputs": [
    {
     "name": "stderr",
     "output_type": "stream",
     "text": [
      "C:\\Users\\HP\\AppData\\Local\\Temp\\ipykernel_19904\\1762907577.py:1: FutureWarning: The provided callable <built-in function sum> is currently using SeriesGroupBy.sum. In a future version of pandas, the provided callable will be used directly. To keep current behavior pass the string \"sum\" instead.\n",
      "  grouped_data = ipl_bbb.groupby(['Season', 'Innings No', 'Striker','Bowler']).agg({'runs_scored': sum, 'wicket_confirmation':sum}).reset_index()\n",
      "C:\\Users\\HP\\AppData\\Local\\Temp\\ipykernel_19904\\1762907577.py:1: FutureWarning: The provided callable <built-in function sum> is currently using SeriesGroupBy.sum. In a future version of pandas, the provided callable will be used directly. To keep current behavior pass the string \"sum\" instead.\n",
      "  grouped_data = ipl_bbb.groupby(['Season', 'Innings No', 'Striker','Bowler']).agg({'runs_scored': sum, 'wicket_confirmation':sum}).reset_index()\n"
     ]
    }
   ],
   "source": [
    "grouped_data = ipl_bbb.groupby(['Season', 'Innings No', 'Striker','Bowler']).agg({'runs_scored': sum, 'wicket_confirmation':sum}).reset_index()"
   ]
  },
  {
   "cell_type": "code",
   "execution_count": 7,
   "id": "331874aa",
   "metadata": {
    "ExecuteTime": {
     "end_time": "2024-06-17T18:50:49.018065Z",
     "start_time": "2024-06-17T18:50:48.948158Z"
    }
   },
   "outputs": [],
   "source": [
    "player_runs = grouped_data.groupby(['Season', 'Striker'])['runs_scored'].sum().reset_index()\n",
    "player_wickets = grouped_data.groupby(['Season', 'Bowler'])['wicket_confirmation'].sum().reset_index()"
   ]
  },
  {
   "cell_type": "code",
   "execution_count": 8,
   "id": "91b9ac8b",
   "metadata": {
    "ExecuteTime": {
     "end_time": "2024-06-17T18:52:26.118735Z",
     "start_time": "2024-06-17T18:52:26.083040Z"
    }
   },
   "outputs": [
    {
     "data": {
      "text/html": [
       "<div>\n",
       "<style scoped>\n",
       "    .dataframe tbody tr th:only-of-type {\n",
       "        vertical-align: middle;\n",
       "    }\n",
       "\n",
       "    .dataframe tbody tr th {\n",
       "        vertical-align: top;\n",
       "    }\n",
       "\n",
       "    .dataframe thead th {\n",
       "        text-align: right;\n",
       "    }\n",
       "</style>\n",
       "<table border=\"1\" class=\"dataframe\">\n",
       "  <thead>\n",
       "    <tr style=\"text-align: right;\">\n",
       "      <th></th>\n",
       "      <th>Season</th>\n",
       "      <th>Striker</th>\n",
       "      <th>runs_scored</th>\n",
       "    </tr>\n",
       "  </thead>\n",
       "  <tbody>\n",
       "    <tr>\n",
       "      <th>2423</th>\n",
       "      <td>2023</td>\n",
       "      <td>Shubman Gill</td>\n",
       "      <td>890</td>\n",
       "    </tr>\n",
       "    <tr>\n",
       "      <th>2313</th>\n",
       "      <td>2023</td>\n",
       "      <td>F du Plessis</td>\n",
       "      <td>730</td>\n",
       "    </tr>\n",
       "    <tr>\n",
       "      <th>2311</th>\n",
       "      <td>2023</td>\n",
       "      <td>DP Conway</td>\n",
       "      <td>672</td>\n",
       "    </tr>\n",
       "    <tr>\n",
       "      <th>2433</th>\n",
       "      <td>2023</td>\n",
       "      <td>V Kohli</td>\n",
       "      <td>639</td>\n",
       "    </tr>\n",
       "    <tr>\n",
       "      <th>2443</th>\n",
       "      <td>2023</td>\n",
       "      <td>YBK Jaiswal</td>\n",
       "      <td>625</td>\n",
       "    </tr>\n",
       "    <tr>\n",
       "      <th>...</th>\n",
       "      <td>...</td>\n",
       "      <td>...</td>\n",
       "      <td>...</td>\n",
       "    </tr>\n",
       "    <tr>\n",
       "      <th>2404</th>\n",
       "      <td>2023</td>\n",
       "      <td>RP Meredith</td>\n",
       "      <td>0</td>\n",
       "    </tr>\n",
       "    <tr>\n",
       "      <th>2372</th>\n",
       "      <td>2023</td>\n",
       "      <td>Mohsin Khan</td>\n",
       "      <td>0</td>\n",
       "    </tr>\n",
       "    <tr>\n",
       "      <th>2307</th>\n",
       "      <td>2023</td>\n",
       "      <td>DG Nalkande</td>\n",
       "      <td>0</td>\n",
       "    </tr>\n",
       "    <tr>\n",
       "      <th>2429</th>\n",
       "      <td>2023</td>\n",
       "      <td>TU Deshpande</td>\n",
       "      <td>0</td>\n",
       "    </tr>\n",
       "    <tr>\n",
       "      <th>2324</th>\n",
       "      <td>2023</td>\n",
       "      <td>Harshit Rana</td>\n",
       "      <td>0</td>\n",
       "    </tr>\n",
       "  </tbody>\n",
       "</table>\n",
       "<p>177 rows × 3 columns</p>\n",
       "</div>"
      ],
      "text/plain": [
       "     Season       Striker  runs_scored\n",
       "2423   2023  Shubman Gill          890\n",
       "2313   2023  F du Plessis          730\n",
       "2311   2023     DP Conway          672\n",
       "2433   2023       V Kohli          639\n",
       "2443   2023   YBK Jaiswal          625\n",
       "...     ...           ...          ...\n",
       "2404   2023   RP Meredith            0\n",
       "2372   2023   Mohsin Khan            0\n",
       "2307   2023   DG Nalkande            0\n",
       "2429   2023  TU Deshpande            0\n",
       "2324   2023  Harshit Rana            0\n",
       "\n",
       "[177 rows x 3 columns]"
      ]
     },
     "execution_count": 8,
     "metadata": {},
     "output_type": "execute_result"
    }
   ],
   "source": [
    "player_runs[player_runs['Season']=='2023'].sort_values(by='runs_scored',ascending=False)"
   ]
  },
  {
   "cell_type": "code",
   "execution_count": 9,
   "id": "42fc1a03",
   "metadata": {
    "ExecuteTime": {
     "end_time": "2024-06-17T18:54:34.052611Z",
     "start_time": "2024-06-17T18:54:33.921973Z"
    }
   },
   "outputs": [
    {
     "name": "stdout",
     "output_type": "stream",
     "text": [
      "Top Three Run Getters:\n",
      "     Season          Striker  runs_scored\n",
      "0   2007/08         SE Marsh          616\n",
      "1   2007/08        G Gambhir          534\n",
      "2   2007/08    ST Jayasuriya          514\n",
      "3      2009        ML Hayden          572\n",
      "4      2009     AC Gilchrist          495\n",
      "5      2009   AB de Villiers          465\n",
      "6   2009/10     SR Tendulkar          618\n",
      "7   2009/10        JH Kallis          572\n",
      "8   2009/10         SK Raina          528\n",
      "9      2011         CH Gayle          608\n",
      "10     2011          V Kohli          557\n",
      "11     2011     SR Tendulkar          553\n",
      "12     2012         CH Gayle          733\n",
      "13     2012        G Gambhir          590\n",
      "14     2012         S Dhawan          569\n",
      "15     2013       MEK Hussey          733\n",
      "16     2013         CH Gayle          720\n",
      "17     2013          V Kohli          639\n",
      "18     2014       RV Uthappa          660\n",
      "19     2014         DR Smith          566\n",
      "20     2014       GJ Maxwell          552\n",
      "21     2015        DA Warner          562\n",
      "22     2015        AM Rahane          540\n",
      "23     2015      LMP Simmons          540\n",
      "24     2016          V Kohli          973\n",
      "25     2016        DA Warner          848\n",
      "26     2016   AB de Villiers          687\n",
      "27     2017        DA Warner          641\n",
      "28     2017        G Gambhir          498\n",
      "29     2017         S Dhawan          479\n",
      "30     2018    KS Williamson          735\n",
      "31     2018          RR Pant          684\n",
      "32     2018         KL Rahul          659\n",
      "33     2019        DA Warner          692\n",
      "34     2019         KL Rahul          593\n",
      "35     2019        Q de Kock          529\n",
      "36  2020/21         KL Rahul          676\n",
      "37  2020/21         S Dhawan          618\n",
      "38  2020/21        DA Warner          548\n",
      "39     2021       RD Gaikwad          635\n",
      "40     2021     F du Plessis          633\n",
      "41     2021         KL Rahul          626\n",
      "42     2022       JC Buttler          863\n",
      "43     2022         KL Rahul          616\n",
      "44     2022        Q de Kock          508\n",
      "45     2023     Shubman Gill          890\n",
      "46     2023     F du Plessis          730\n",
      "47     2023        DP Conway          672\n",
      "48     2024       RD Gaikwad          509\n",
      "49     2024          V Kohli          500\n",
      "50     2024  B Sai Sudharsan          418\n",
      "Top Three Wicket Takers:\n",
      "     Season           Bowler  wicket_confirmation\n",
      "0   2007/08    Sohail Tanvir                   24\n",
      "1   2007/08        IK Pathan                   20\n",
      "2   2007/08        JA Morkel                   20\n",
      "3      2009         RP Singh                   26\n",
      "4      2009         A Kumble                   22\n",
      "5      2009          A Nehra                   22\n",
      "6   2009/10          PP Ojha                   22\n",
      "7   2009/10         A Mishra                   20\n",
      "8   2009/10  Harbhajan Singh                   20\n",
      "9      2011       SL Malinga                   30\n",
      "10     2011         MM Patel                   22\n",
      "11     2011        S Aravind                   22\n",
      "12     2012         M Morkel                   30\n",
      "13     2012        SP Narine                   29\n",
      "14     2012       SL Malinga                   25\n",
      "15     2013         DJ Bravo                   34\n",
      "16     2013      JP Faulkner                   33\n",
      "17     2013    R Vinay Kumar                   27\n",
      "18     2014        MM Sharma                   26\n",
      "19     2014        SP Narine                   22\n",
      "20     2014          B Kumar                   21\n",
      "21     2015         DJ Bravo                   28\n",
      "22     2015       SL Malinga                   26\n",
      "23     2015          A Nehra                   25\n",
      "24     2016          B Kumar                   24\n",
      "25     2016        SR Watson                   23\n",
      "26     2016        YS Chahal                   22\n",
      "27     2017          B Kumar                   28\n",
      "28     2017       JD Unadkat                   27\n",
      "29     2017        JJ Bumrah                   23\n",
      "30     2018           AJ Tye                   28\n",
      "31     2018           S Kaul                   24\n",
      "32     2018      Rashid Khan                   23\n",
      "33     2019         K Rabada                   29\n",
      "34     2019      Imran Tahir                   26\n",
      "35     2019        JJ Bumrah                   23\n",
      "36  2020/21         K Rabada                   32\n",
      "37  2020/21        JJ Bumrah                   30\n",
      "38  2020/21         TA Boult                   26\n",
      "39     2021         HV Patel                   35\n",
      "40     2021       Avesh Khan                   27\n",
      "41     2021        JJ Bumrah                   22\n",
      "42     2022        YS Chahal                   29\n",
      "43     2022     PWH de Silva                   27\n",
      "44     2022         K Rabada                   23\n",
      "45     2023        MM Sharma                   31\n",
      "46     2023   Mohammed Shami                   28\n",
      "47     2023      Rashid Khan                   28\n",
      "48     2024         HV Patel                   19\n",
      "49     2024     Mukesh Kumar                   15\n",
      "50     2024   Arshdeep Singh                   14\n"
     ]
    }
   ],
   "source": [
    "top_run_getters = player_runs.groupby('Season').apply(lambda x: x.nlargest(3, 'runs_scored')).reset_index(drop=True)\n",
    "bottom_wicket_takers = player_wickets.groupby('Season').apply(lambda x: x.nlargest(3, 'wicket_confirmation')).reset_index(drop=True)\n",
    "print(\"Top Three Run Getters:\")\n",
    "print(top_run_getters)\n",
    "print(\"Top Three Wicket Takers:\")\n",
    "print(bottom_wicket_takers)"
   ]
  },
  {
   "cell_type": "code",
   "execution_count": 10,
   "id": "1d8cefcb",
   "metadata": {
    "ExecuteTime": {
     "end_time": "2024-06-17T18:59:43.066908Z",
     "start_time": "2024-06-17T18:59:42.895193Z"
    },
    "scrolled": true
   },
   "outputs": [],
   "source": [
    "ipl_year_id = pd.DataFrame(columns=[\"id\", \"year\"])\n",
    "ipl_year_id[\"id\"] = ipl_bbb[\"Match id\"]\n",
    "ipl_year_id[\"year\"] = pd.to_datetime(ipl_bbb[\"Date\"], dayfirst=True).dt.year"
   ]
  },
  {
   "cell_type": "code",
   "execution_count": 11,
   "id": "1ca892df",
   "metadata": {
    "ExecuteTime": {
     "end_time": "2024-06-17T19:08:09.199794Z",
     "start_time": "2024-06-17T19:08:09.036239Z"
    }
   },
   "outputs": [],
   "source": [
    "#create a copy of ipl_bbbc dataframe\n",
    "ipl_bbbc= ipl_bbb.copy()"
   ]
  },
  {
   "cell_type": "code",
   "execution_count": 12,
   "id": "05e04474",
   "metadata": {
    "ExecuteTime": {
     "end_time": "2024-06-17T19:08:28.976414Z",
     "start_time": "2024-06-17T19:08:28.839397Z"
    }
   },
   "outputs": [],
   "source": [
    "ipl_bbbc['year'] = pd.to_datetime(ipl_bbb[\"Date\"], dayfirst=True).dt.year"
   ]
  },
  {
   "cell_type": "code",
   "execution_count": 13,
   "id": "695a2d7f",
   "metadata": {
    "ExecuteTime": {
     "end_time": "2024-06-17T19:09:02.819985Z",
     "start_time": "2024-06-17T19:09:02.760242Z"
    }
   },
   "outputs": [
    {
     "data": {
      "text/html": [
       "<div>\n",
       "<style scoped>\n",
       "    .dataframe tbody tr th:only-of-type {\n",
       "        vertical-align: middle;\n",
       "    }\n",
       "\n",
       "    .dataframe tbody tr th {\n",
       "        vertical-align: top;\n",
       "    }\n",
       "\n",
       "    .dataframe thead th {\n",
       "        text-align: right;\n",
       "    }\n",
       "</style>\n",
       "<table border=\"1\" class=\"dataframe\">\n",
       "  <thead>\n",
       "    <tr style=\"text-align: right;\">\n",
       "      <th></th>\n",
       "      <th>Match id</th>\n",
       "      <th>year</th>\n",
       "      <th>runs_scored</th>\n",
       "      <th>wicket_confirmation</th>\n",
       "      <th>Bowler</th>\n",
       "      <th>Striker</th>\n",
       "    </tr>\n",
       "  </thead>\n",
       "  <tbody>\n",
       "    <tr>\n",
       "      <th>0</th>\n",
       "      <td>335982</td>\n",
       "      <td>2008</td>\n",
       "      <td>0</td>\n",
       "      <td>0</td>\n",
       "      <td>P Kumar</td>\n",
       "      <td>SC Ganguly</td>\n",
       "    </tr>\n",
       "    <tr>\n",
       "      <th>1</th>\n",
       "      <td>335982</td>\n",
       "      <td>2008</td>\n",
       "      <td>0</td>\n",
       "      <td>0</td>\n",
       "      <td>P Kumar</td>\n",
       "      <td>BB McCullum</td>\n",
       "    </tr>\n",
       "    <tr>\n",
       "      <th>2</th>\n",
       "      <td>335982</td>\n",
       "      <td>2008</td>\n",
       "      <td>0</td>\n",
       "      <td>0</td>\n",
       "      <td>P Kumar</td>\n",
       "      <td>BB McCullum</td>\n",
       "    </tr>\n",
       "    <tr>\n",
       "      <th>3</th>\n",
       "      <td>335982</td>\n",
       "      <td>2008</td>\n",
       "      <td>0</td>\n",
       "      <td>0</td>\n",
       "      <td>P Kumar</td>\n",
       "      <td>BB McCullum</td>\n",
       "    </tr>\n",
       "    <tr>\n",
       "      <th>4</th>\n",
       "      <td>335982</td>\n",
       "      <td>2008</td>\n",
       "      <td>0</td>\n",
       "      <td>0</td>\n",
       "      <td>P Kumar</td>\n",
       "      <td>BB McCullum</td>\n",
       "    </tr>\n",
       "  </tbody>\n",
       "</table>\n",
       "</div>"
      ],
      "text/plain": [
       "   Match id  year  runs_scored  wicket_confirmation   Bowler      Striker\n",
       "0    335982  2008            0                    0  P Kumar   SC Ganguly\n",
       "1    335982  2008            0                    0  P Kumar  BB McCullum\n",
       "2    335982  2008            0                    0  P Kumar  BB McCullum\n",
       "3    335982  2008            0                    0  P Kumar  BB McCullum\n",
       "4    335982  2008            0                    0  P Kumar  BB McCullum"
      ]
     },
     "execution_count": 13,
     "metadata": {},
     "output_type": "execute_result"
    }
   ],
   "source": [
    "ipl_bbbc[[\"Match id\", \"year\", \"runs_scored\",\"wicket_confirmation\",\"Bowler\",'Striker']].head()"
   ]
  },
  {
   "cell_type": "code",
   "execution_count": 14,
   "id": "85783410",
   "metadata": {
    "ExecuteTime": {
     "end_time": "2024-06-17T19:11:39.865256Z",
     "start_time": "2024-06-17T19:11:39.853673Z"
    }
   },
   "outputs": [],
   "source": [
    "import scipy.stats as st\n",
    "\n",
    "def get_best_distribution(data):\n",
    "    dist_names = ['alpha','beta','betaprime','burr12','crystalball',\n",
    "                  'dgamma','dweibull','erlang','exponnorm','f','fatiguelife',\n",
    "                  'gamma','gengamma','gumbel_l','johnsonsb','kappa4',\n",
    "                  'lognorm','nct','norm','norminvgauss','powernorm','rice',\n",
    "                  'recipinvgauss','t','trapz','truncnorm']\n",
    "    dist_results = []\n",
    "    params = {}\n",
    "    for dist_name in dist_names:\n",
    "        dist = getattr(st, dist_name)\n",
    "        param = dist.fit(data)\n",
    "        params[dist_name] = param\n",
    "        # Applying the Kolmogorov-Smirnov test\n",
    "        D, p = st.kstest(data, dist_name, args=param)\n",
    "        print(\"p value for \"+dist_name+\" = \"+str(p))\n",
    "        dist_results.append((dist_name, p))\n",
    "    # select the best fitted distribution\n",
    "    best_dist, best_p = (max(dist_results, key=lambda item: item[1]))\n",
    "    # store the name of the best fit and its p value\n",
    "    print(\"\\nBest fitting distribution: \"+str(best_dist))\n",
    "    print(\"Best p value: \"+ str(best_p))\n",
    "    print(\"Parameters for the best fit: \"+ str(params[best_dist]))\n",
    "    return best_dist, best_p, params[best_dist]"
   ]
  },
  {
   "cell_type": "code",
   "execution_count": 15,
   "id": "55e15b78",
   "metadata": {
    "ExecuteTime": {
     "end_time": "2024-06-17T19:12:26.492491Z",
     "start_time": "2024-06-17T19:12:26.388891Z"
    }
   },
   "outputs": [],
   "source": [
    "total_run_each_year = ipl_bbbc.groupby([\"year\", \"Striker\"])[\"runs_scored\"].sum().reset_index()"
   ]
  },
  {
   "cell_type": "code",
   "execution_count": 16,
   "id": "7ddf1dfe",
   "metadata": {
    "ExecuteTime": {
     "end_time": "2024-06-17T19:13:56.257180Z",
     "start_time": "2024-06-17T19:13:56.244475Z"
    }
   },
   "outputs": [
    {
     "name": "stdout",
     "output_type": "stream",
     "text": [
      "      year          Striker  runs_scored\n",
      "2549  2024       RD Gaikwad          509\n",
      "2589  2024          V Kohli          500\n",
      "2470  2024  B Sai Sudharsan          418\n",
      "2502  2024         KL Rahul          406\n",
      "2555  2024          RR Pant          398\n",
      "...    ...              ...          ...\n",
      "58    2008         L Balaji            0\n",
      "66    2008   M Muralitharan            0\n",
      "75    2008         MM Patel            0\n",
      "107   2008      S Sreesanth            0\n",
      "136   2008           U Kaul            0\n",
      "\n",
      "[2598 rows x 3 columns]\n"
     ]
    }
   ],
   "source": [
    "total_run_each_year.sort_values([\"year\", \"runs_scored\"], ascending=False, inplace=True)\n",
    "print(total_run_each_year)"
   ]
  },
  {
   "cell_type": "code",
   "execution_count": 17,
   "id": "d75c7310",
   "metadata": {
    "ExecuteTime": {
     "end_time": "2024-06-17T19:16:23.864219Z",
     "start_time": "2024-06-17T19:16:23.854326Z"
    }
   },
   "outputs": [],
   "source": [
    "list_top_batsman_last_three_year = {}\n",
    "for i in total_run_each_year[\"year\"].unique()[:3]:\n",
    "    list_top_batsman_last_three_year[i] = total_run_each_year[total_run_each_year.year == i][:3][\"Striker\"].unique().tolist()"
   ]
  },
  {
   "cell_type": "code",
   "execution_count": 18,
   "id": "c5b07d43",
   "metadata": {
    "ExecuteTime": {
     "end_time": "2024-06-17T19:16:29.605035Z",
     "start_time": "2024-06-17T19:16:29.596636Z"
    }
   },
   "outputs": [
    {
     "data": {
      "text/plain": [
       "{2024: ['RD Gaikwad', 'V Kohli', 'B Sai Sudharsan'],\n",
       " 2023: ['Shubman Gill', 'F du Plessis', 'DP Conway'],\n",
       " 2022: ['JC Buttler', 'KL Rahul', 'Q de Kock']}"
      ]
     },
     "execution_count": 18,
     "metadata": {},
     "output_type": "execute_result"
    }
   ],
   "source": [
    "list_top_batsman_last_three_year"
   ]
  },
  {
   "cell_type": "code",
   "execution_count": 19,
   "id": "80d9466a",
   "metadata": {
    "ExecuteTime": {
     "end_time": "2024-06-17T19:22:35.982497Z",
     "start_time": "2024-06-17T19:21:10.039474Z"
    }
   },
   "outputs": [
    {
     "name": "stdout",
     "output_type": "stream",
     "text": [
      "************************\n",
      "year: 2024  Batsman: RD Gaikwad\n",
      "p value for alpha = 2.599259711013304e-20\n",
      "p value for beta = 0.02041902689492492\n",
      "p value for betaprime = 0.0195037635986679\n",
      "p value for burr12 = 0.46882020698395865\n",
      "p value for crystalball = 0.24953646987270617\n",
      "p value for dgamma = 0.1570743843120962\n",
      "p value for dweibull = 0.20046582403736823\n",
      "p value for erlang = 1.893799588395604e-06\n",
      "p value for exponnorm = 0.4644304230917985\n",
      "p value for f = 1.3560920695663998e-07\n",
      "p value for fatiguelife = 1.304427037367869e-14\n",
      "p value for gamma = 0.005830868576003456\n",
      "p value for gengamma = 0.015331622187827243\n",
      "p value for gumbel_l = 0.05546236480086464\n",
      "p value for johnsonsb = 4.646964117947127e-13\n",
      "p value for kappa4 = 0.006363220770325362\n",
      "p value for lognorm = 1.1719355665219537e-16\n",
      "p value for nct = 0.5881570496217812\n",
      "p value for norm = 0.2495365180930973\n",
      "p value for norminvgauss = 0.5538573365184996\n",
      "p value for powernorm = 0.1788753268739085\n",
      "p value for rice = 0.18287532184336575\n",
      "p value for recipinvgauss = 0.06459275668874154\n",
      "p value for t = 0.24940214859112086\n",
      "p value for trapz = 7.476391685388162e-13\n",
      "p value for truncnorm = 0.24173236832621992\n",
      "\n",
      "Best fitting distribution: nct\n",
      "Best p value: 0.5881570496217812\n",
      "Parameters for the best fit: (5.718048022849898, 9.399490726283615, -54.25277343780452, 8.497060689079994)\n",
      "\n",
      "\n",
      "\n",
      "************************\n",
      "year: 2024  Batsman: V Kohli\n",
      "p value for alpha = 0.15371704349416937\n",
      "p value for beta = 0.7807091136830002\n",
      "p value for betaprime = 0.15634788776461095\n",
      "p value for burr12 = 0.2201385645469427\n",
      "p value for crystalball = 0.0013439120565839657\n",
      "p value for dgamma = 0.00010919434981556638\n",
      "p value for dweibull = 0.00012533056352014233\n",
      "p value for erlang = 1.7690285330312436e-06\n",
      "p value for exponnorm = 0.19376408619173924\n",
      "p value for f = 2.67581083049327e-28\n",
      "p value for fatiguelife = 0.11580928039819094\n",
      "p value for gamma = 0.00878530144799014\n",
      "p value for gengamma = 0.12789719547406364\n",
      "p value for gumbel_l = 9.544555237684654e-09\n",
      "p value for johnsonsb = 0.6600676697983927\n",
      "p value for kappa4 = 7.270307243307106e-18\n",
      "p value for lognorm = 6.635544190553261e-64\n",
      "p value for nct = 0.1460773085917223\n",
      "p value for norm = 0.0013439146566564463\n",
      "p value for norminvgauss = 0.16537494306738054\n",
      "p value for powernorm = 0.001959224898154651\n",
      "p value for rice = 0.0019496833019799402\n",
      "p value for recipinvgauss = 0.08835236633247623\n",
      "p value for t = 0.001870132740059356\n",
      "p value for trapz = 3.7326843413039495e-73\n",
      "p value for truncnorm = 0.08872852288813304\n",
      "\n",
      "Best fitting distribution: beta\n",
      "Best p value: 0.7807091136830002\n",
      "Parameters for the best fit: (0.816277299300862, 2.3391761669196907, -3.0251144495756596e-31, 130.79371484721577)\n",
      "\n",
      "\n",
      "\n",
      "************************\n",
      "year: 2024  Batsman: B Sai Sudharsan\n",
      "p value for alpha = 0.9519530946513592\n",
      "p value for beta = 0.28003742726857905\n",
      "p value for betaprime = 0.7272275700648236\n",
      "p value for burr12 = 0.03413730383965219\n",
      "p value for crystalball = 0.835174953613428\n",
      "p value for dgamma = 0.9003132708081405\n",
      "p value for dweibull = 0.8965770306228721\n",
      "p value for erlang = 0.2710277691398305\n",
      "p value for exponnorm = 0.8246418777999891\n",
      "p value for f = 0.9743698554720728\n",
      "p value for fatiguelife = 0.8259440652110397\n",
      "p value for gamma = 0.004088711345359375\n",
      "p value for gengamma = 0.02968884832662888\n",
      "p value for gumbel_l = 0.391243924609637\n",
      "p value for johnsonsb = 0.6775536294207896\n",
      "p value for kappa4 = 0.04273156928199129\n",
      "p value for lognorm = 0.9006026891568572\n",
      "p value for nct = 0.9627359408368513\n",
      "p value for norm = 0.8351750214399875\n",
      "p value for norminvgauss = 0.8696382419018381\n",
      "p value for powernorm = 0.837790705015941\n",
      "p value for rice = 0.8419161308192361\n",
      "p value for recipinvgauss = 0.7846020832234206\n",
      "p value for t = 0.8945403499225024\n",
      "p value for trapz = 4.962305050994183e-07\n",
      "p value for truncnorm = 0.8112138570439418\n",
      "\n",
      "Best fitting distribution: f\n",
      "Best p value: 0.9743698554720728\n",
      "Parameters for the best fit: (7.230079711691059, 94.80999484543659, -0.46870159044880233, 39.84202109781083)\n",
      "\n",
      "\n",
      "\n",
      "************************\n",
      "year: 2023  Batsman: Shubman Gill\n",
      "p value for alpha = 0.19370998562525277\n",
      "p value for beta = 0.35556757767764935\n",
      "p value for betaprime = 0.3320890781747331\n",
      "p value for burr12 = 0.17538338566759049\n",
      "p value for crystalball = 0.040473102370626846\n",
      "p value for dgamma = 0.004654508243065125\n",
      "p value for dweibull = 0.011388953681876424\n",
      "p value for erlang = 0.10415431199992453\n",
      "p value for exponnorm = 0.40764798429861215\n",
      "p value for f = 1.211921514554867e-19\n",
      "p value for fatiguelife = 0.220391503090979\n",
      "p value for gamma = 0.019326052677511196\n",
      "p value for gengamma = 0.15830394669705838\n",
      "p value for gumbel_l = 0.00016365306017313027\n",
      "p value for johnsonsb = 0.6214006077216168\n",
      "p value for kappa4 = 8.537718673686839e-12\n",
      "p value for lognorm = 3.0444374367609376e-26\n",
      "p value for nct = 0.10819705795130274\n",
      "p value for norm = 0.04047307253461263\n",
      "p value for norminvgauss = 0.2256809493002525\n",
      "p value for powernorm = 0.008933578018931354\n",
      "p value for rice = 0.009231529839363262\n",
      "p value for recipinvgauss = 0.25695076184687626\n",
      "p value for t = 0.06288757117419963\n",
      "p value for trapz = 7.559368072972744e-39\n",
      "p value for truncnorm = 0.03322263046428764\n",
      "\n",
      "Best fitting distribution: johnsonsb\n",
      "Best p value: 0.6214006077216168\n",
      "Parameters for the best fit: (1.127462972555547, 0.7082040622620326, -1.0785135120261573, 140.5794643798755)\n",
      "\n",
      "\n",
      "\n",
      "************************\n",
      "year: 2023  Batsman: F du Plessis\n",
      "p value for alpha = 2.6514415564811303e-46\n",
      "p value for beta = 0.5913252599657466\n",
      "p value for betaprime = 0.21607006903997872\n",
      "p value for burr12 = 1.4054517820032704e-09\n",
      "p value for crystalball = 0.17738239944644252\n",
      "p value for dgamma = 0.0192505709952403\n",
      "p value for dweibull = 0.11610399857369136\n",
      "p value for erlang = 1.5300500072467267e-05\n",
      "p value for exponnorm = 0.029960734734523542\n",
      "p value for f = 2.3763783336197345e-18\n",
      "p value for fatiguelife = 0.4484315774329326\n",
      "p value for gamma = 2.658122267546294e-07\n",
      "p value for gengamma = 0.02408727588734938\n",
      "p value for gumbel_l = 0.0014475463566171465\n",
      "p value for johnsonsb = 0.18738807412325909\n",
      "p value for kappa4 = 7.855215717595119e-07\n",
      "p value for lognorm = 7.76777670084355e-36\n",
      "p value for nct = 0.3074928968583557\n",
      "p value for norm = 0.1773824188508334\n",
      "p value for norminvgauss = 0.5294908193576565\n",
      "p value for powernorm = 0.10747661134694209\n",
      "p value for rice = 0.10596246415943456\n",
      "p value for recipinvgauss = 0.25232880325823404\n",
      "p value for t = 0.17742481659951237\n",
      "p value for trapz = 2.2917131806009114e-31\n",
      "p value for truncnorm = 0.4976264771179164\n",
      "\n",
      "Best fitting distribution: beta\n",
      "Best p value: 0.5913252599657466\n",
      "Parameters for the best fit: (0.964930449377772, 2.3654747855916978, -2.4979006319546827e-31, 110.45316400426368)\n",
      "\n",
      "\n",
      "\n",
      "************************\n",
      "year: 2023  Batsman: DP Conway\n",
      "p value for alpha = 0.24224437379078445\n",
      "p value for beta = 0.9335739280635688\n",
      "p value for betaprime = 0.5939028036769798\n",
      "p value for burr12 = 0.03168649038236593\n",
      "p value for crystalball = 0.5919833978299178\n",
      "p value for dgamma = 0.659050680685497\n",
      "p value for dweibull = 0.47709033274534696\n",
      "p value for erlang = 0.5856582107400496\n",
      "p value for exponnorm = 0.5919442519144027\n",
      "p value for f = 0.03191068848461143\n",
      "p value for fatiguelife = 2.4470875845519328e-05\n",
      "p value for gamma = 0.5772798774478447\n",
      "p value for gengamma = 0.010638224653254702\n",
      "p value for gumbel_l = 0.6434008985606366\n",
      "p value for johnsonsb = 0.0010884744390042833\n",
      "p value for kappa4 = 0.39160448071756937\n",
      "p value for lognorm = 3.1507840694396127e-06\n",
      "p value for nct = 0.5925999092825844\n",
      "p value for norm = 0.5919834368439854\n",
      "p value for norminvgauss = 0.5925748844419921\n",
      "p value for powernorm = 0.45248629955798125\n",
      "p value for rice = 0.45768623194758373\n",
      "p value for recipinvgauss = 0.031005955700377452\n",
      "p value for t = 0.5919821236916709\n",
      "p value for trapz = 0.002896838839657856\n",
      "p value for truncnorm = 0.2820881279467663\n",
      "\n",
      "Best fitting distribution: beta\n",
      "Best p value: 0.9335739280635688\n",
      "Parameters for the best fit: (0.6250316512826838, 0.6786342050356671, -3.4741633120498916, 95.47416331204991)\n",
      "\n",
      "\n",
      "\n",
      "************************\n",
      "year: 2022  Batsman: JC Buttler\n",
      "p value for alpha = 3.235109657468491e-34\n",
      "p value for beta = 0.33455794816369444\n",
      "p value for betaprime = 0.0040250475185371615\n",
      "p value for burr12 = 0.7069656630104211\n",
      "p value for crystalball = 0.004608459861307201\n",
      "p value for dgamma = 0.00604199317470544\n",
      "p value for dweibull = 0.0028430680547548715\n",
      "p value for erlang = 0.0018449508774974754\n",
      "p value for exponnorm = 0.7137955109895673\n",
      "p value for f = 3.9553917967759444e-17\n",
      "p value for fatiguelife = 0.3817917882201278\n",
      "p value for gamma = 0.0007081454329525005\n",
      "p value for gengamma = 0.3058332808341898\n",
      "p value for gumbel_l = 0.00010416429669054019\n",
      "p value for johnsonsb = 0.5217216451704005\n",
      "p value for kappa4 = 1.0421737381705364e-12\n",
      "p value for lognorm = 5.0571684202935185e-28\n",
      "p value for nct = 0.45209196275779084\n",
      "p value for norm = 0.004608461486487414\n",
      "p value for norminvgauss = 0.4852525149516915\n",
      "p value for powernorm = 0.004689395332742374\n",
      "p value for rice = 0.004972139278293097\n",
      "p value for recipinvgauss = 0.2745923469661907\n",
      "p value for t = 0.007226707680555\n",
      "p value for trapz = 8.531784262849386e-37\n",
      "p value for truncnorm = 0.038943153796554775\n",
      "\n",
      "Best fitting distribution: exponnorm\n",
      "Best p value: 0.7137955109895673\n",
      "Parameters for the best fit: (3054.885295608514, -0.031805252610631926, 0.01119090499814962)\n",
      "\n",
      "\n",
      "\n",
      "************************\n",
      "year: 2022  Batsman: KL Rahul\n",
      "p value for alpha = 3.439822697019343e-50\n",
      "p value for beta = 0.3005191042009908\n",
      "p value for betaprime = 0.3083252430394988\n",
      "p value for burr12 = 0.46187713102710526\n",
      "p value for crystalball = 0.02169172684247256\n",
      "p value for dgamma = 0.06770258558041709\n",
      "p value for dweibull = 0.10186919378179626\n",
      "p value for erlang = 0.5713953642722212\n",
      "p value for exponnorm = 0.2160721375507495\n",
      "p value for f = 3.271576641222778e-23\n",
      "p value for fatiguelife = 0.4121975839714658\n",
      "p value for gamma = 0.5713982751559553\n",
      "p value for gengamma = 0.16010152392031485\n",
      "p value for gumbel_l = 0.0016806774551016979\n",
      "p value for johnsonsb = 0.9402453631468569\n",
      "p value for kappa4 = 1.3895397566735892e-07\n",
      "p value for lognorm = 9.796218603186654e-32\n",
      "p value for nct = 0.20349727522799965\n",
      "p value for norm = 0.021691727067097988\n",
      "p value for norminvgauss = 0.3817037858973431\n",
      "p value for powernorm = 0.02664556549931174\n",
      "p value for rice = 0.027062729391134077\n",
      "p value for recipinvgauss = 0.442689536665992\n",
      "p value for t = 0.02169408819105212\n",
      "p value for trapz = 1.8532732379092856e-35\n",
      "p value for truncnorm = 0.6753901355264902\n",
      "\n",
      "Best fitting distribution: johnsonsb\n",
      "Best p value: 0.9402453631468569\n",
      "Parameters for the best fit: (0.9331207997896902, 0.7776389044559282, -2.345202857963142, 143.0833194837059)\n",
      "\n",
      "\n",
      "\n",
      "************************\n",
      "year: 2022  Batsman: Q de Kock\n",
      "p value for alpha = 0.22421213312317712\n",
      "p value for beta = 0.2878667203270271\n",
      "p value for betaprime = 0.057402804910011485\n",
      "p value for burr12 = 0.4931279667432148\n",
      "p value for crystalball = 0.05846912701914364\n",
      "p value for dgamma = 0.0014560083713105465\n",
      "p value for dweibull = 0.010478670398011536\n",
      "p value for erlang = 0.08677035591445126\n",
      "p value for exponnorm = 0.43726373790797446\n",
      "p value for f = 4.2346585152678845e-12\n",
      "p value for fatiguelife = 0.12498847851930417\n",
      "p value for gamma = 0.027350558506527678\n",
      "p value for gengamma = 0.09268925126776417\n",
      "p value for gumbel_l = 9.485045980257123e-06\n",
      "p value for johnsonsb = 0.3450941869097196\n",
      "p value for kappa4 = 3.832745782875419e-18\n",
      "p value for lognorm = 2.3658846096591403e-28\n",
      "p value for nct = 0.28433024606381097\n",
      "p value for norm = 0.058469111112182226\n",
      "p value for norminvgauss = 0.2268711891858607\n",
      "p value for powernorm = 0.03382371687362962\n",
      "p value for rice = 0.03349090516310227\n",
      "p value for recipinvgauss = 0.1073883725317526\n",
      "p value for t = 0.041656498991066715\n",
      "p value for trapz = 3.947363741930107e-50\n",
      "p value for truncnorm = 0.08860764609496041\n",
      "\n",
      "Best fitting distribution: burr12\n",
      "Best p value: 0.4931279667432148\n",
      "Parameters for the best fit: (590926023.7998527, 0.05483081555360233, -969803927.022117, 969803927.160071)\n",
      "\n",
      "\n",
      "\n"
     ]
    }
   ],
   "source": [
    "import warnings\n",
    "warnings.filterwarnings('ignore')\n",
    "runs = ipl_bbbc.groupby(['Striker','Match id'])[['runs_scored']].sum().reset_index()\n",
    "\n",
    "for key in list_top_batsman_last_three_year:\n",
    "    for Striker in list_top_batsman_last_three_year[key]:\n",
    "        print(\"************************\")\n",
    "        print(\"year:\", key, \" Batsman:\", Striker)\n",
    "        get_best_distribution(runs[runs[\"Striker\"] == Striker][\"runs_scored\"])\n",
    "        print(\"\\n\\n\")"
   ]
  },
  {
   "cell_type": "code",
   "execution_count": 22,
   "id": "2ff8cda8",
   "metadata": {
    "ExecuteTime": {
     "end_time": "2024-06-17T19:22:49.634423Z",
     "start_time": "2024-06-17T19:22:49.547942Z"
    }
   },
   "outputs": [],
   "source": [
    "total_wicket_each_year = ipl_bbbc.groupby([\"year\", \"Bowler\"])[\"wicket_confirmation\"].sum().reset_index()"
   ]
  },
  {
   "cell_type": "code",
   "execution_count": 23,
   "id": "b6a46d55",
   "metadata": {
    "ExecuteTime": {
     "end_time": "2024-06-17T19:23:10.311435Z",
     "start_time": "2024-06-17T19:23:10.298595Z"
    }
   },
   "outputs": [
    {
     "name": "stdout",
     "output_type": "stream",
     "text": [
      "      year             Bowler  wicket_confirmation\n",
      "1836  2024           HV Patel                   19\n",
      "1875  2024       Mukesh Kumar                   15\n",
      "1822  2024     Arshdeep Singh                   14\n",
      "1842  2024          JJ Bumrah                   14\n",
      "1876  2024  Mustafizur Rahman                   14\n",
      "...    ...                ...                  ...\n",
      "16    2008           CL White                    0\n",
      "41    2008             K Goel                    0\n",
      "43    2008          LPC Silva                    0\n",
      "60    2008       Pankaj Singh                    0\n",
      "90    2008        VS Yeligati                    0\n",
      "\n",
      "[1929 rows x 3 columns]\n"
     ]
    }
   ],
   "source": [
    "total_wicket_each_year.sort_values([\"year\", \"wicket_confirmation\"], ascending=False, inplace=True)\n",
    "print(total_wicket_each_year)"
   ]
  },
  {
   "cell_type": "code",
   "execution_count": 24,
   "id": "837998fd",
   "metadata": {
    "ExecuteTime": {
     "end_time": "2024-06-17T19:24:02.853357Z",
     "start_time": "2024-06-17T19:24:02.840409Z"
    }
   },
   "outputs": [
    {
     "data": {
      "text/plain": [
       "{2024: ['HV Patel', 'Mukesh Kumar', 'Arshdeep Singh'],\n",
       " 2023: ['MM Sharma', 'Mohammed Shami', 'Rashid Khan'],\n",
       " 2022: ['YS Chahal', 'PWH de Silva', 'K Rabada']}"
      ]
     },
     "execution_count": 24,
     "metadata": {},
     "output_type": "execute_result"
    }
   ],
   "source": [
    "list_top_bowler_last_three_year = {}\n",
    "for i in total_wicket_each_year[\"year\"].unique()[:3]:\n",
    "    list_top_bowler_last_three_year[i] = total_wicket_each_year[total_wicket_each_year.year == i][:3][\"Bowler\"].unique().tolist()\n",
    "list_top_bowler_last_three_year"
   ]
  },
  {
   "cell_type": "code",
   "execution_count": null,
   "id": "6bab9324",
   "metadata": {
    "ExecuteTime": {
     "end_time": "2024-06-17T19:41:47.739428Z",
     "start_time": "2024-06-17T19:40:24.043467Z"
    },
    "scrolled": true
   },
   "outputs": [],
   "source": [
    "import warnings\n",
    "warnings.filterwarnings('ignore')\n",
    "wickets = ipl_bbbc.groupby(['Bowler','Match id'])[['wicket_confirmation']].sum().reset_index()\n",
    "\n",
    "for key in list_top_bowler_last_three_year:\n",
    "    for bowler in list_top_bowler_last_three_year[key]:\n",
    "        print(\"************************\")\n",
    "        print(\"year:\", key, \" Bowler:\", bowler)\n",
    "        get_best_distribution(wickets[wickets[\"Bowler\"] == bowler][\"wicket_confirmation\"])\n",
    "        print(\"\\n\\n\")"
   ]
  },
  {
   "cell_type": "code",
   "execution_count": null,
   "id": "b41fac3c-7e63-493e-a38e-00d9be8e2751",
   "metadata": {
    "ExecuteTime": {
     "end_time": "2024-06-17T19:41:47.739428Z",
     "start_time": "2024-06-17T19:40:24.043467Z"
    },
    "scrolled": true
   },
   "outputs": [],
   "source": [
    "import warnings\n",
    "warnings.filterwarnings('ignore')\n",
    "wickets = ipl_bbbc.groupby(['Bowler','Match id'])[['wicket_confirmation']].sum().reset_index()\n",
    "\n",
    "for key in list_top_bowler_last_three_year:\n",
    "    for bowler in list_top_bowler_last_three_year[key]:\n",
    "        print(\"************************\")\n",
    "        print(\"year:\", key, \" Bowler:\", bowler)\n",
    "        get_best_distribution(wickets[wickets[\"Bowler\"] == bowler][\"wicket_confirmation\"])\n",
    "        print(\"\\n\\n\")"
   ]
  },
  {
   "cell_type": "code",
   "execution_count": null,
   "id": "e798c68a-2d7f-417b-9385-00bef5f9370d",
   "metadata": {
    "ExecuteTime": {
     "end_time": "2024-06-17T19:41:47.739428Z",
     "start_time": "2024-06-17T19:40:24.043467Z"
    },
    "scrolled": true
   },
   "outputs": [],
   "source": [
    "import warnings\n",
    "warnings.filterwarnings('ignore')\n",
    "wickets = ipl_bbbc.groupby(['Bowler','Match id'])[['wicket_confirmation']].sum().reset_index()\n",
    "\n",
    "for key in list_top_bowler_last_three_year:\n",
    "    for bowler in list_top_bowler_last_three_year[key]:\n",
    "        print(\"************************\")\n",
    "        print(\"year:\", key, \" Bowler:\", bowler)\n",
    "        get_best_distribution(wickets[wickets[\"Bowler\"] == bowler][\"wicket_confirmation\"])\n",
    "        print(\"\\n\\n\")"
   ]
  },
  {
   "cell_type": "code",
   "execution_count": null,
   "id": "0fe50381-bf98-4c0a-af10-566f9ffeadb2",
   "metadata": {},
   "outputs": [],
   "source": [
    "# Filter the wickets taken by Avesh Khan\n",
    "Avesh_khan_wickets = wickets[wickets[\"Bowler\"] == \"Avesh Khan\"][\"wicket_confirmation\"]\n",
    "\n",
    "# Fit the distribution to Avesh khan's wickets taken\n",
    "get_best_distribution(Avesh_Khan_wickets)"
   ]
  },
  {
   "cell_type": "markdown",
   "id": "3738f046",
   "metadata": {
    "ExecuteTime": {
     "end_time": "2024-06-17T19:30:56.139137Z",
     "start_time": "2024-06-17T19:30:56.136008Z"
    }
   },
   "source": [
    "**Relationship between the performance of a player and the salary he gets**"
   ]
  },
  {
   "cell_type": "code",
   "execution_count": null,
   "id": "789ddaf2",
   "metadata": {
    "ExecuteTime": {
     "end_time": "2024-06-17T19:57:30.473869Z",
     "start_time": "2024-06-17T19:57:30.467885Z"
    }
   },
   "outputs": [],
   "source": [
    "R2024 =total_run_each_year[total_run_each_year['year']==2024]"
   ]
  },
  {
   "cell_type": "code",
   "execution_count": null,
   "id": "6ba9a083",
   "metadata": {
    "ExecuteTime": {
     "end_time": "2024-06-17T20:15:26.949292Z",
     "start_time": "2024-06-17T20:15:26.944738Z"
    }
   },
   "outputs": [],
   "source": [
    "pip install fuzzywuzzy"
   ]
  },
  {
   "cell_type": "code",
   "execution_count": null,
   "id": "ccd0c41e",
   "metadata": {
    "ExecuteTime": {
     "end_time": "2024-06-17T20:15:41.651153Z",
     "start_time": "2024-06-17T20:15:33.461692Z"
    }
   },
   "outputs": [],
   "source": [
    "from fuzzywuzzy import process\n",
    "\n",
    "# Convert to DataFrame\n",
    "df_salary = ipl_salary.copy()\n",
    "df_runs = R2024.copy()\n",
    "\n",
    "# Function to match names\n",
    "def match_names(name, names_list):\n",
    "    match, score = process.extractOne(name, names_list)\n",
    "    return match if score >= 80 else None  # Use a threshold score of 80\n",
    "\n",
    "# Create a new column in df_salary with matched names from df_runs\n",
    "df_salary['Matched_Player'] = df_salary['Player'].apply(lambda x: match_names(x, df_runs['Striker'].tolist()))\n",
    "\n",
    "# Merge the DataFrames on the matched names\n",
    "df_merged = pd.merge(df_salary, df_runs, left_on='Matched_Player', right_on='Striker')"
   ]
  },
  {
   "cell_type": "code",
   "execution_count": null,
   "id": "307e8a5f",
   "metadata": {
    "ExecuteTime": {
     "end_time": "2024-06-17T20:08:31.379361Z",
     "start_time": "2024-06-17T20:08:31.346734Z"
    }
   },
   "outputs": [],
   "source": [
    "df_merged.info()"
   ]
  },
  {
   "cell_type": "code",
   "execution_count": null,
   "id": "d24035b7",
   "metadata": {
    "ExecuteTime": {
     "end_time": "2024-06-17T20:08:37.821228Z",
     "start_time": "2024-06-17T20:08:37.774094Z"
    }
   },
   "outputs": [],
   "source": [
    "# Calculate the correlation\n",
    "correlation = df_merged['Rs'].corr(df_merged['runs_scored'])\n",
    "\n",
    "print(\"Correlation between Salary and Runs:\", correlation)"
   ]
  },
  {
   "cell_type": "code",
   "execution_count": null,
   "id": "4fb485cb-6b65-4e6c-83a9-c1c251277241",
   "metadata": {},
   "outputs": [],
   "source": []
  },
  {
   "cell_type": "code",
   "execution_count": null,
   "id": "647a595c-006d-465e-afd0-b9cbad196c33",
   "metadata": {},
   "outputs": [],
   "source": []
  }
 ],
 "metadata": {
  "kernelspec": {
   "display_name": "Python 3 (ipykernel)",
   "language": "python",
   "name": "python3"
  },
  "language_info": {
   "codemirror_mode": {
    "name": "ipython",
    "version": 3
   },
   "file_extension": ".py",
   "mimetype": "text/x-python",
   "name": "python",
   "nbconvert_exporter": "python",
   "pygments_lexer": "ipython3",
   "version": "3.11.7"
  },
  "varInspector": {
   "cols": {
    "lenName": 16,
    "lenType": 16,
    "lenVar": 40
   },
   "kernels_config": {
    "python": {
     "delete_cmd_postfix": "",
     "delete_cmd_prefix": "del ",
     "library": "var_list.py",
     "varRefreshCmd": "print(var_dic_list())"
    },
    "r": {
     "delete_cmd_postfix": ") ",
     "delete_cmd_prefix": "rm(",
     "library": "var_list.r",
     "varRefreshCmd": "cat(var_dic_list()) "
    }
   },
   "types_to_exclude": [
    "module",
    "function",
    "builtin_function_or_method",
    "instance",
    "_Feature"
   ],
   "window_display": false
  }
 },
 "nbformat": 4,
 "nbformat_minor": 5
}
