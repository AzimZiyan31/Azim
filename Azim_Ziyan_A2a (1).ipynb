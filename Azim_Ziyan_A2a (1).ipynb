{
 "cells": [
  {
   "cell_type": "code",
   "execution_count": 1,
   "id": "f5cef4da-83b2-461a-881d-5112d436b411",
   "metadata": {},
   "outputs": [],
   "source": [
    "import pandas as pd\n",
    "import numpy as np\n",
    "from scipy import stats\n",
    "import matplotlib.pyplot as plt\n",
    "import seaborn as sns\n",
    "import os"
   ]
  },
  {
   "cell_type": "code",
   "execution_count": 2,
   "id": "493dc15a-9f60-44c8-8c2f-c9190a8b6a23",
   "metadata": {},
   "outputs": [],
   "source": [
    "os.chdir(\"D://SCMA//Data\")"
   ]
  },
  {
   "cell_type": "code",
   "execution_count": 3,
   "id": "6815700a-966d-4b64-ae01-b35d45a6a28d",
   "metadata": {},
   "outputs": [],
   "source": [
    "data=pd.read_csv(\"NSSO68 (1).csv\",encoding=\"Latin-1\", low_memory=False)"
   ]
  },
  {
   "cell_type": "markdown",
   "id": "574acdee-99ba-495e-b332-9e443cd7c11d",
   "metadata": {},
   "source": [
    "# Filter data for AP\n"
   ]
  },
  {
   "cell_type": "code",
   "execution_count": 4,
   "id": "bd562762-77d5-4b97-9667-dc402fe54976",
   "metadata": {},
   "outputs": [],
   "source": [
    "ap_data = data[data['state_1']==\"AP\"]"
   ]
  },
  {
   "cell_type": "markdown",
   "id": "9997f6b8-9a7c-4aae-a94b-266f30692699",
   "metadata": {},
   "source": [
    "# Check for missing values"
   ]
  },
  {
   "cell_type": "code",
   "execution_count": 5,
   "id": "11f09a52-e986-4991-a700-a22dc2c97c8c",
   "metadata": {},
   "outputs": [
    {
     "name": "stdout",
     "output_type": "stream",
     "text": [
      "Missing values in each column:\n",
      "slno              0\n",
      "grp               0\n",
      "Round_Centre      0\n",
      "FSU_number        0\n",
      "Round             0\n",
      "                 ..\n",
      "foodtotal_q       0\n",
      "state_1           0\n",
      "Region            0\n",
      "fruits_df_tt_v    0\n",
      "fv_tot            0\n",
      "Length: 384, dtype: int64\n"
     ]
    }
   ],
   "source": [
    "missing_values = ap_data.isnull().sum()\n",
    "print(\"Missing values in each column:\")\n",
    "print(missing_values)"
   ]
  },
  {
   "cell_type": "markdown",
   "id": "f713d952-cce5-4fd1-9187-af52b1854bf9",
   "metadata": {},
   "source": [
    "# Replace missing values with mean"
   ]
  },
  {
   "cell_type": "code",
   "execution_count": 6,
   "id": "c3b2ad47-0467-49b8-9891-83a53e92d826",
   "metadata": {},
   "outputs": [],
   "source": [
    "ap_data = ap_data.apply(lambda x: x.fillna(x.mean()) if x.dtype.kind in 'biufc' else x)"
   ]
  },
  {
   "cell_type": "markdown",
   "id": "717a9710-d83a-46b0-a116-d9fff7d55e87",
   "metadata": {},
   "source": [
    "# Verify that there are no more missing values"
   ]
  },
  {
   "cell_type": "code",
   "execution_count": 7,
   "id": "af6957c6-1097-44e4-a77e-2f7f3ec0dc3c",
   "metadata": {},
   "outputs": [
    {
     "name": "stdout",
     "output_type": "stream",
     "text": [
      "Missing values after replacement for Ap\n",
      "slno              0\n",
      "grp               0\n",
      "Round_Centre      0\n",
      "FSU_number        0\n",
      "Round             0\n",
      "                 ..\n",
      "foodtotal_q       0\n",
      "state_1           0\n",
      "Region            0\n",
      "fruits_df_tt_v    0\n",
      "fv_tot            0\n",
      "Length: 384, dtype: int64\n"
     ]
    }
   ],
   "source": [
    "missing_values_after = ap_data.isna().sum()\n",
    "print(\"Missing values after replacement for Ap\")\n",
    "print(missing_values_after)\n"
   ]
  },
  {
   "cell_type": "markdown",
   "id": "6a807e2e-c420-4485-9b0d-7cdf0d118582",
   "metadata": {},
   "source": [
    "# Identify and remove outliers using the IQR method"
   ]
  },
  {
   "cell_type": "code",
   "execution_count": 8,
   "id": "8e12a0d9-5cfe-49e1-8d2c-55667bffffbc",
   "metadata": {},
   "outputs": [
    {
     "name": "stdout",
     "output_type": "stream",
     "text": [
      "slno has 0 outliers in Ap\n",
      "Round_Centre has 0 outliers in Ap\n",
      "FSU_number has 0 outliers in Ap\n",
      "Round has 0 outliers in Ap\n",
      "Schedule_Number has 0 outliers in Ap\n",
      "Sample has 0 outliers in Ap\n",
      "Sector has 0 outliers in Ap\n",
      "state has 0 outliers in Ap\n",
      "State_Region has 0 outliers in Ap\n",
      "District has 0 outliers in Ap\n",
      "Stratum_Number has 0 outliers in Ap\n",
      "Sub_Stratum has 160 outliers in Ap\n",
      "Schedule_type has 0 outliers in Ap\n",
      "Sub_Round has 0 outliers in Ap\n",
      "Sub_Sample has 0 outliers in Ap\n",
      "FOD_Sub_Region has 16 outliers in Ap\n",
      "Hamlet_Group_Sub_Block has 0 outliers in Ap\n",
      "t has 162 outliers in Ap\n",
      "X_Stage_Stratum has 0 outliers in Ap\n",
      "HHS_No has 539 outliers in Ap\n",
      "Level has 0 outliers in Ap\n",
      "Filler has 0 outliers in Ap\n",
      "hhdsz has 93 outliers in Ap\n",
      "NIC_2008 has 0 outliers in Ap\n",
      "NCO_2004 has 0 outliers in Ap\n",
      "HH_type has 502 outliers in Ap\n",
      "Religion has 626 outliers in Ap\n",
      "Social_Group has 2185 outliers in Ap\n",
      "Whether_owns_any_land has 519 outliers in Ap\n",
      "Type_of_land_owned has 0 outliers in Ap\n",
      "Land_Owned has 229 outliers in Ap\n",
      "Land_Leased_in has 183 outliers in Ap\n",
      "Otherwise_possessed has 14 outliers in Ap\n",
      "Land_Leased_out has 75 outliers in Ap\n",
      "Land_Total_possessed has 268 outliers in Ap\n",
      "During_July_June_Cultivated has 227 outliers in Ap\n",
      "During_July_June_Irrigated has 0 outliers in Ap\n",
      "NSS has 0 outliers in Ap\n",
      "NSC has 0 outliers in Ap\n",
      "MLT has 103 outliers in Ap\n",
      "land_tt has 80 outliers in Ap\n",
      "Cooking_code has 14 outliers in Ap\n",
      "Lighting_code has 13 outliers in Ap\n",
      "Dwelling_unit_code has 6 outliers in Ap\n",
      "Regular_salary_earner has 0 outliers in Ap\n",
      "Perform_Ceremony has 16 outliers in Ap\n",
      "Meals_seved_to_non_hhld_members has 37 outliers in Ap\n",
      "Possess_ration_card has 71 outliers in Ap\n",
      "Type_of_ration_card has 80 outliers in Ap\n",
      "MPCE_URP has 39 outliers in Ap\n",
      "MPCE_MRP has 12 outliers in Ap\n",
      "Person_Srl_No has 0 outliers in Ap\n",
      "Relation has 0 outliers in Ap\n",
      "Sex has 93 outliers in Ap\n",
      "Age has 9 outliers in Ap\n",
      "Marital_Status has 17 outliers in Ap\n",
      "Education has 0 outliers in Ap\n",
      "Days_Stayed_away has 111 outliers in Ap\n",
      "No_of_Meals_per_day has 94 outliers in Ap\n",
      "Meals_School has 0 outliers in Ap\n",
      "Meals_Employer has 3 outliers in Ap\n",
      "Meals_Others has 8 outliers in Ap\n",
      "Meals_Payment has 8 outliers in Ap\n",
      "Meals_At_Home has 2 outliers in Ap\n",
      "Item_Code has 6 outliers in Ap\n",
      "Source_Code has 0 outliers in Ap\n",
      "ricepds_q has 80 outliers in Ap\n",
      "riceos_q has 4 outliers in Ap\n",
      "ricetotal_q has 1 outliers in Ap\n",
      "chira_q has 9 outliers in Ap\n",
      "khoi_q has 0 outliers in Ap\n",
      "muri_q has 8 outliers in Ap\n",
      "ricepro_q has 17 outliers in Ap\n",
      "riceGT_q has 0 outliers in Ap\n",
      "Wheatpds_q has 14 outliers in Ap\n",
      "wheatos_q has 3 outliers in Ap\n",
      "wheattotal_q has 0 outliers in Ap\n",
      "maida_q has 11 outliers in Ap\n",
      "suji_q has 6 outliers in Ap\n",
      "sewai_q has 5 outliers in Ap\n",
      "bread_q has 6 outliers in Ap\n",
      "wheatp_q has 0 outliers in Ap\n",
      "wheatGT_q has 1 outliers in Ap\n",
      "jowarp_q has 12 outliers in Ap\n",
      "bajrap_q has 0 outliers in Ap\n",
      "maizep_q has 0 outliers in Ap\n",
      "barleyp_q has 0 outliers in Ap\n",
      "milletp_q has 0 outliers in Ap\n",
      "ragip_q has 20 outliers in Ap\n",
      "cerealot_q has 0 outliers in Ap\n",
      "cerealtot_q has 0 outliers in Ap\n",
      "cerealsub_q has 0 outliers in Ap\n",
      "cerealstt_q has 0 outliers in Ap\n",
      "arhar_q has 3 outliers in Ap\n",
      "gramdal_q has 9 outliers in Ap\n",
      "gramwholep_q has 5 outliers in Ap\n",
      "gramGT_q has 16 outliers in Ap\n",
      "moong_q has 0 outliers in Ap\n",
      "masur_q has 4 outliers in Ap\n",
      "urd_q has 1 outliers in Ap\n",
      "peasdal_q has 0 outliers in Ap\n",
      "khesari_q has 0 outliers in Ap\n",
      "otpulse_q has 2 outliers in Ap\n",
      "gramp_q has 0 outliers in Ap\n",
      "besan_q has 7 outliers in Ap\n",
      "pulsep_q has 2 outliers in Ap\n",
      "pulsestot_q has 3 outliers in Ap\n",
      "pulsestt_q has 0 outliers in Ap\n",
      "soyabean_q has 0 outliers in Ap\n",
      "milk_q has 2 outliers in Ap\n",
      "babyfood_q has 0 outliers in Ap\n",
      "milkcond_q has 1 outliers in Ap\n",
      "curd_q has 1 outliers in Ap\n",
      "ghee_q has 0 outliers in Ap\n",
      "butter_q has 0 outliers in Ap\n",
      "icecream_q has 0 outliers in Ap\n",
      "otmilkp_q has 0 outliers in Ap\n",
      "Milktotal_q has 0 outliers in Ap\n",
      "milkprott_q has 0 outliers in Ap\n",
      "vanas_q has 0 outliers in Ap\n",
      "musoil_q has 0 outliers in Ap\n",
      "gnoil_q has 0 outliers in Ap\n",
      "cocooil_q has 0 outliers in Ap\n",
      "edioilothr_q has 0 outliers in Ap\n",
      "edibletotal_q has 0 outliers in Ap\n",
      "ediblest_q has 0 outliers in Ap\n",
      "eggsno_q has 0 outliers in Ap\n",
      "fishprawn_q has 2 outliers in Ap\n",
      "goatmeat_q has 4 outliers in Ap\n",
      "beef_q has 0 outliers in Ap\n",
      "pork_q has 0 outliers in Ap\n",
      "chicken_q has 1 outliers in Ap\n",
      "othrbirds_q has 0 outliers in Ap\n",
      "nonvegtotal_q has 0 outliers in Ap\n",
      "emftt_q has 0 outliers in Ap\n",
      "potato_q has 0 outliers in Ap\n",
      "onion_q has 0 outliers in Ap\n",
      "tamato_q has 0 outliers in Ap\n",
      "brinjal_q has 2 outliers in Ap\n",
      "radish_q has 0 outliers in Ap\n",
      "carrot_q has 0 outliers in Ap\n",
      "palak_q has 0 outliers in Ap\n",
      "chillig_q has 0 outliers in Ap\n",
      "bhindi_q has 0 outliers in Ap\n",
      "parwal_q has 4 outliers in Ap\n",
      "cauli_q has 3 outliers in Ap\n",
      "cabbage_q has 0 outliers in Ap\n",
      "pumpkin_q has 2 outliers in Ap\n",
      "peas_q has 1 outliers in Ap\n",
      "fbeans_q has 0 outliers in Ap\n",
      "lemonno_q has 1 outliers in Ap\n",
      "otveg_q has 0 outliers in Ap\n",
      "vegtt_q has 0 outliers in Ap\n",
      "bananano_q has 0 outliers in Ap\n",
      "jackfruit_q has 0 outliers in Ap\n",
      "watermel_q has 0 outliers in Ap\n",
      "pineaplno_q has 0 outliers in Ap\n",
      "cocono_q has 1 outliers in Ap\n",
      "cocogno_q has 0 outliers in Ap\n",
      "guava_q has 0 outliers in Ap\n",
      "sighara_q has 0 outliers in Ap\n",
      "orangeno_q has 0 outliers in Ap\n",
      "papayar_q has 0 outliers in Ap\n",
      "mango_q has 0 outliers in Ap\n",
      "kharbooz_q has 0 outliers in Ap\n",
      "pears_q has 0 outliers in Ap\n",
      "berries_q has 0 outliers in Ap\n",
      "leechi_q has 0 outliers in Ap\n",
      "apple_q has 0 outliers in Ap\n",
      "grapes_q has 0 outliers in Ap\n",
      "otfruits_q has 0 outliers in Ap\n",
      "fruitstt_q has 0 outliers in Ap\n",
      "fruitt_total has 0 outliers in Ap\n",
      "cocodf_q has 1 outliers in Ap\n",
      "gnutdf_q has 0 outliers in Ap\n",
      "datesdf_q has 0 outliers in Ap\n",
      "cashewdf_q has 0 outliers in Ap\n",
      "walnutdf_q has 0 outliers in Ap\n",
      "otnutsdf_q has 0 outliers in Ap\n",
      "kishmish_q has 0 outliers in Ap\n",
      "otherdf_q has 0 outliers in Ap\n",
      "dryfruitstotal_q has 0 outliers in Ap\n",
      "dftt_q has 0 outliers in Ap\n",
      "sugarpds_q has 0 outliers in Ap\n",
      "sugaros_q has 0 outliers in Ap\n",
      "sugarst_q has 0 outliers in Ap\n",
      "gur_q has 0 outliers in Ap\n",
      "misri_q has 0 outliers in Ap\n",
      "honey_q has 0 outliers in Ap\n",
      "sugartotal_q has 0 outliers in Ap\n",
      "sugartt_q has 0 outliers in Ap\n",
      "salt_q has 0 outliers in Ap\n",
      "ginger_q has 0 outliers in Ap\n",
      "garlic_q has 0 outliers in Ap\n",
      "jeera_q has 0 outliers in Ap\n",
      "dhania_q has 0 outliers in Ap\n",
      "turnmeric_q has 0 outliers in Ap\n",
      "blackpepper_q has 0 outliers in Ap\n",
      "drychilly_q has 0 outliers in Ap\n",
      "tamarind_q has 0 outliers in Ap\n",
      "currypowder_q has 0 outliers in Ap\n",
      "oilseeds_q has 0 outliers in Ap\n",
      "spicesothr_q has 0 outliers in Ap\n",
      "spicetot_q has 0 outliers in Ap\n",
      "spicestotal_q has 0 outliers in Ap\n",
      "teacupno_q has 0 outliers in Ap\n",
      "tealeaf_q has 0 outliers in Ap\n",
      "teatotal_q has 0 outliers in Ap\n",
      "cofeeno_q has 0 outliers in Ap\n",
      "coffeepwdr_q has 0 outliers in Ap\n",
      "cofeetotal_q has 0 outliers in Ap\n",
      "ice_q has 0 outliers in Ap\n",
      "coldbvrg_q has 0 outliers in Ap\n",
      "juice_q has 0 outliers in Ap\n",
      "othrbevrg_q has 0 outliers in Ap\n",
      "bevergest_q has 0 outliers in Ap\n",
      "Biscuits_q has 0 outliers in Ap\n",
      "preparedsweet_q has 0 outliers in Ap\n",
      "pickle_q has 0 outliers in Ap\n",
      "sauce_jam_q has 0 outliers in Ap\n",
      "Othrprocessed_q has 0 outliers in Ap\n",
      "Beveragestotal_q has 0 outliers in Ap\n",
      "ricepds_v has 0 outliers in Ap\n",
      "riceos_v has 0 outliers in Ap\n",
      "ricetotal_v has 0 outliers in Ap\n",
      "chira_v has 0 outliers in Ap\n",
      "khoi_v has 0 outliers in Ap\n",
      "muri_v has 0 outliers in Ap\n",
      "ricepro_v has 0 outliers in Ap\n",
      "riceGT_v has 0 outliers in Ap\n",
      "Wheatpds_v has 0 outliers in Ap\n",
      "wheatos_v has 0 outliers in Ap\n",
      "wheattotal_v has 0 outliers in Ap\n",
      "maida_v has 0 outliers in Ap\n",
      "suji_v has 1 outliers in Ap\n",
      "sewai_v has 0 outliers in Ap\n",
      "bread_v has 0 outliers in Ap\n",
      "wheatp_v has 0 outliers in Ap\n",
      "wheatGT_v has 0 outliers in Ap\n",
      "jowarp_v has 0 outliers in Ap\n",
      "bajrap_v has 0 outliers in Ap\n",
      "maizep_v has 0 outliers in Ap\n",
      "barleyp_v has 0 outliers in Ap\n",
      "milletp_v has 0 outliers in Ap\n",
      "ragip_v has 0 outliers in Ap\n",
      "cerealot_v has 0 outliers in Ap\n",
      "cerealtot_v has 0 outliers in Ap\n",
      "cerealsub_v has 0 outliers in Ap\n",
      "cerealstt_v has 0 outliers in Ap\n",
      "arhar_v has 0 outliers in Ap\n",
      "gramdal_v has 0 outliers in Ap\n",
      "gramwholep_v has 0 outliers in Ap\n",
      "gramGT_v has 0 outliers in Ap\n",
      "moong_v has 0 outliers in Ap\n",
      "masur_v has 0 outliers in Ap\n",
      "urd_v has 0 outliers in Ap\n",
      "peasdal_v has 0 outliers in Ap\n",
      "khesari_v has 0 outliers in Ap\n",
      "otpulse_v has 0 outliers in Ap\n",
      "gramp_v has 0 outliers in Ap\n",
      "besan_v has 0 outliers in Ap\n",
      "pulsep_v has 0 outliers in Ap\n",
      "pulsestot_v has 0 outliers in Ap\n",
      "pulsestt_v has 0 outliers in Ap\n",
      "soyabean_v has 0 outliers in Ap\n",
      "milk_v has 0 outliers in Ap\n",
      "babyfood_v has 0 outliers in Ap\n",
      "milkcond_v has 0 outliers in Ap\n",
      "curd_v has 0 outliers in Ap\n",
      "ghee_v has 0 outliers in Ap\n",
      "butter_v has 0 outliers in Ap\n",
      "icecream_v has 0 outliers in Ap\n",
      "otmilkp_v has 0 outliers in Ap\n",
      "Milktotal_v has 0 outliers in Ap\n",
      "milkprott_v has 0 outliers in Ap\n",
      "vanas_v has 0 outliers in Ap\n",
      "musoil_v has 0 outliers in Ap\n",
      "gnoil_v has 0 outliers in Ap\n",
      "cocooil_v has 0 outliers in Ap\n",
      "edioilothr_v has 0 outliers in Ap\n",
      "edibletotal_v has 0 outliers in Ap\n",
      "ediblest_v has 0 outliers in Ap\n",
      "eggsno_v has 0 outliers in Ap\n",
      "fishprawn_v has 0 outliers in Ap\n",
      "goatmeat_v has 0 outliers in Ap\n",
      "beef_v has 0 outliers in Ap\n",
      "pork_v has 0 outliers in Ap\n",
      "chicken_v has 0 outliers in Ap\n",
      "othrbirds_v has 0 outliers in Ap\n",
      "nonvegtotal_v has 0 outliers in Ap\n",
      "emftt_v has 0 outliers in Ap\n",
      "potato_v has 0 outliers in Ap\n",
      "onion_v has 0 outliers in Ap\n",
      "tamato_v has 0 outliers in Ap\n",
      "brinjal_v has 0 outliers in Ap\n",
      "radish_v has 0 outliers in Ap\n",
      "carrot_v has 0 outliers in Ap\n",
      "palak_v has 0 outliers in Ap\n",
      "chillig_v has 0 outliers in Ap\n",
      "bhindi_v has 0 outliers in Ap\n",
      "parwal_v has 0 outliers in Ap\n",
      "cauli_v has 0 outliers in Ap\n",
      "cabbage_v has 0 outliers in Ap\n",
      "pumpkin_v has 0 outliers in Ap\n",
      "peas_v has 0 outliers in Ap\n",
      "fbeans_v has 0 outliers in Ap\n",
      "lemonno_v has 0 outliers in Ap\n",
      "otveg_v has 0 outliers in Ap\n",
      "vegtt_v has 0 outliers in Ap\n",
      "bananano_v has 0 outliers in Ap\n",
      "jackfruit_v has 0 outliers in Ap\n",
      "watermel_v has 0 outliers in Ap\n",
      "pineaplno_v has 0 outliers in Ap\n",
      "cocono_v has 0 outliers in Ap\n",
      "cocogno_v has 0 outliers in Ap\n",
      "guava_v has 0 outliers in Ap\n",
      "sighara_v has 0 outliers in Ap\n",
      "orangeno_v has 0 outliers in Ap\n",
      "papayar_v has 0 outliers in Ap\n",
      "mango_v has 0 outliers in Ap\n",
      "kharbooz_v has 0 outliers in Ap\n",
      "pears_v has 0 outliers in Ap\n",
      "berries_v has 0 outliers in Ap\n",
      "leechi_v has 0 outliers in Ap\n",
      "apple_v has 0 outliers in Ap\n",
      "grapes_v has 0 outliers in Ap\n",
      "otfruits_v has 0 outliers in Ap\n",
      "fruitstt_v has 0 outliers in Ap\n",
      "cocodf_v has 0 outliers in Ap\n",
      "gnutdf_v has 0 outliers in Ap\n",
      "datesdf_v has 0 outliers in Ap\n",
      "cashewdf_v has 0 outliers in Ap\n",
      "walnutdf_v has 0 outliers in Ap\n",
      "otnutsdf_v has 0 outliers in Ap\n",
      "kishmish_v has 0 outliers in Ap\n",
      "otherdf_v has 0 outliers in Ap\n",
      "dryfruitstotal_v has 0 outliers in Ap\n",
      "dftt_v has 0 outliers in Ap\n",
      "sugarpds_v has 0 outliers in Ap\n",
      "sugaros_v has 0 outliers in Ap\n",
      "sugarst_v has 0 outliers in Ap\n",
      "gur_v has 0 outliers in Ap\n",
      "misri_v has 0 outliers in Ap\n",
      "honey_v has 0 outliers in Ap\n",
      "sugartotal_v has 0 outliers in Ap\n",
      "sugartt_v has 0 outliers in Ap\n",
      "salt_v has 0 outliers in Ap\n",
      "ginger_v has 0 outliers in Ap\n",
      "garlic_v has 0 outliers in Ap\n",
      "jeera_v has 0 outliers in Ap\n",
      "dhania_v has 0 outliers in Ap\n",
      "turnmeric_v has 0 outliers in Ap\n",
      "blackpepper_v has 0 outliers in Ap\n",
      "drychilly_v has 0 outliers in Ap\n",
      "tamarind_v has 0 outliers in Ap\n",
      "currypowder_v has 0 outliers in Ap\n",
      "oilseeds_v has 0 outliers in Ap\n",
      "spicesothr_v has 0 outliers in Ap\n",
      "spicetot_v has 0 outliers in Ap\n",
      "spicestotal_v has 0 outliers in Ap\n",
      "teacupno_v has 0 outliers in Ap\n",
      "tealeaf_v has 0 outliers in Ap\n",
      "teatotal_v has 0 outliers in Ap\n",
      "cofeeno_v has 0 outliers in Ap\n",
      "coffeepwdr_v has 0 outliers in Ap\n",
      "cofeetotal_v has 0 outliers in Ap\n",
      "ice_v has 0 outliers in Ap\n",
      "coldbvrg_v has 0 outliers in Ap\n",
      "juice_v has 0 outliers in Ap\n",
      "othrbevrg_v has 0 outliers in Ap\n",
      "bevergest_v has 0 outliers in Ap\n",
      "Biscuits_v has 0 outliers in Ap\n",
      "preparedsweet_v has 0 outliers in Ap\n",
      "pickle_v has 0 outliers in Ap\n",
      "sauce_jam_v has 0 outliers in Ap\n",
      "Othrprocessed_v has 0 outliers in Ap\n",
      "Beveragestotal_v has 0 outliers in Ap\n",
      "foodtotal_v has 0 outliers in Ap\n",
      "foodtotal_q has 0 outliers in Ap\n",
      "Region has 0 outliers in Ap\n",
      "fruits_df_tt_v has 0 outliers in Ap\n",
      "fv_tot has 0 outliers in Ap\n"
     ]
    }
   ],
   "source": [
    "numeric_columns = ap_data.select_dtypes(include=[np.number]).columns\n",
    "for col in numeric_columns:\n",
    "    Q1 = ap_data[col].quantile(0.25)\n",
    "    Q3 = ap_data[col].quantile(0.75)\n",
    "    IQR = Q3 - Q1\n",
    "    outliers = ((ap_data[col] < (Q1 - 1.5 * IQR)) | (ap_data[col] > (Q3 + 1.5 * IQR)))\n",
    "    print(f\"{col} has {outliers.sum()} outliers in Ap\")\n",
    "    ap_data = ap_data[~outliers]"
   ]
  },
  {
   "cell_type": "markdown",
   "id": "63f47953-0d2f-42b9-9025-b443f923acec",
   "metadata": {},
   "source": [
    "# Check if the column exists and rename it"
   ]
  },
  {
   "cell_type": "code",
   "execution_count": 9,
   "id": "50e9fca5-f603-4396-9408-a7af546b7d89",
   "metadata": {},
   "outputs": [
    {
     "name": "stdout",
     "output_type": "stream",
     "text": [
      "Column 'old_district_column_name' doesn't exist in the data.\n"
     ]
    }
   ],
   "source": [
    "if 'old_district_column_name' in ap_data.columns:\n",
    "    ap_data.rename(columns={'old_district_column_name': 'new_district_column_name'}, inplace=True)\n",
    "else:\n",
    "    print(\"Column 'old_district_column_name' doesn't exist in the data.\")"
   ]
  },
  {
   "cell_type": "markdown",
   "id": "34d6cbf7-9ae2-4c31-8f0a-4dc51b7375ae",
   "metadata": {},
   "source": [
    "# Summarize the critical variables region-wise"
   ]
  },
  {
   "cell_type": "code",
   "execution_count": 10,
   "id": "a5164595-5456-4e99-96cc-4c13d20e227c",
   "metadata": {},
   "outputs": [],
   "source": [
    "region_summary = ap_data.groupby('FOD_Sub_Region').agg(\n",
    "    avg_No_of_Meals_per_day=('No_of_Meals_per_day', 'mean'),\n",
    "    min_No_of_Meals_per_day=('No_of_Meals_per_day', 'min'),\n",
    "    max_No_of_Meals_per_day=('No_of_Meals_per_day', 'max')\n",
    ").reset_index()\n"
   ]
  },
  {
   "cell_type": "markdown",
   "id": "e60a6db2-8720-43a9-8267-a6754a6b5fd7",
   "metadata": {},
   "source": [
    "# Summarize the critical variables district-wise"
   ]
  },
  {
   "cell_type": "code",
   "execution_count": 11,
   "id": "f20847c9-e79e-4b39-8022-3c431f4a959a",
   "metadata": {},
   "outputs": [],
   "source": [
    "district_summary = ap_data.groupby('District').agg(\n",
    "    avg_No_of_Meals_per_day=('No_of_Meals_per_day', 'mean'),\n",
    "    min_No_of_Meals_per_day=('No_of_Meals_per_day', 'min'),\n",
    "    max_No_of_Meals_per_day=('No_of_Meals_per_day', 'max')\n",
    ").reset_index()"
   ]
  },
  {
   "cell_type": "markdown",
   "id": "c9564586-8225-4414-ab06-f6228291b138",
   "metadata": {},
   "source": [
    "# Mutate the District column"
   ]
  },
  {
   "cell_type": "code",
   "execution_count": 12,
   "id": "cc5ed1b9-2255-4392-a9cb-712277987f7f",
   "metadata": {},
   "outputs": [],
   "source": [
    "ap_data['District'] = ap_data['District'].apply(lambda x: 'Ap Urban' if x == '18' else x)\n"
   ]
  },
  {
   "cell_type": "markdown",
   "id": "47d6eb0e-61c9-4077-873f-86c9050f9c8d",
   "metadata": {},
   "source": [
    "# Identify the top and bottom three districts of consumption"
   ]
  },
  {
   "cell_type": "code",
   "execution_count": 13,
   "id": "6ab23ed3-fb74-45a8-b576-45501b07cba3",
   "metadata": {},
   "outputs": [],
   "source": [
    "top_three_districts = district_summary.sort_values(by='avg_No_of_Meals_per_day', ascending=False).head(3)\n",
    "bottom_three_districts = district_summary.sort_values(by='avg_No_of_Meals_per_day').head(3)\n"
   ]
  },
  {
   "cell_type": "markdown",
   "id": "13f28125-52c5-4559-90ad-5a60a07f223e",
   "metadata": {},
   "source": [
    "# Inspect unique values in No_of_Meals_per_day for each District"
   ]
  },
  {
   "cell_type": "code",
   "execution_count": 14,
   "id": "8e0213b9-1363-4864-819e-1e96efedcce7",
   "metadata": {},
   "outputs": [
    {
     "name": "stdout",
     "output_type": "stream",
     "text": [
      "Unique values of No_of_Meals_per_day for each District:\n",
      "4: [3.]\n",
      "11: [3.]\n",
      "15: [3.]\n"
     ]
    }
   ],
   "source": [
    "unique_values_per_district = ap_data.groupby('District')['No_of_Meals_per_day'].unique()\n",
    "print(\"Unique values of No_of_Meals_per_day for each District:\")\n",
    "for district, unique_values in unique_values_per_district.items():\n",
    "    print(f\"{district}: {unique_values}\")"
   ]
  },
  {
   "cell_type": "markdown",
   "id": "fd0554c4-f11f-4429-a0bf-d1de9473daa4",
   "metadata": {},
   "source": [
    "\n",
    "# ANOVA analysis"
   ]
  },
  {
   "cell_type": "code",
   "execution_count": 15,
   "id": "7c3fdd96-d0b5-4270-bd93-1a83705c9f9e",
   "metadata": {},
   "outputs": [],
   "source": [
    "import statsmodels.api as sm"
   ]
  },
  {
   "cell_type": "code",
   "execution_count": 16,
   "id": "6b30a7f1-2ae9-47e7-93e3-3180212c5201",
   "metadata": {},
   "outputs": [],
   "source": [
    "from scipy.stats import f_oneway"
   ]
  },
  {
   "cell_type": "code",
   "execution_count": 17,
   "id": "278f96d5-ba08-4461-bfd5-53125e76272a",
   "metadata": {},
   "outputs": [],
   "source": [
    "from statsmodels.formula.api import ols"
   ]
  },
  {
   "cell_type": "code",
   "execution_count": 18,
   "id": "56446ebe-f4d0-45e1-a0b1-6a2e0c3ef8db",
   "metadata": {},
   "outputs": [
    {
     "name": "stderr",
     "output_type": "stream",
     "text": [
      "C:\\Users\\HP\\anaconda3\\Lib\\site-packages\\scipy\\stats\\_stats_py.py:4141: DegenerateDataWarning: all input arrays have length 1.  f_oneway requires that at least one input has length greater than 1.\n",
      "  warnings.warn(stats.DegenerateDataWarning(msg))\n"
     ]
    }
   ],
   "source": [
    "district_groups = [ap_data[ap_data['District'] == district]['No_of_Meals_per_day'].dropna() for district in ap_data['District'].unique()]\n",
    "anova_result = f_oneway(*district_groups)"
   ]
  },
  {
   "cell_type": "markdown",
   "id": "1f273029-75a1-4d5d-84bc-9cc396a53b2f",
   "metadata": {},
   "source": [
    "# Display ANOVA results"
   ]
  },
  {
   "cell_type": "code",
   "execution_count": 19,
   "id": "3917aee4-16b7-4555-bc68-350790dd33ff",
   "metadata": {},
   "outputs": [],
   "source": [
    "model = ols('No_of_Meals_per_day ~ (District)', data=ap_data).fit()\n",
    "anova_result = sm.stats.anova_lm(model, typ=2)"
   ]
  },
  {
   "cell_type": "code",
   "execution_count": 20,
   "id": "2086cb36-e64c-4126-90e8-86fedbd93918",
   "metadata": {},
   "outputs": [
    {
     "name": "stdout",
     "output_type": "stream",
     "text": [
      "ANOVA results:\n",
      "\n",
      "                sum_sq   df         F   PR(>F)\n",
      "District  1.194077e-32  1.0  0.020182  0.91016\n",
      "Residual  5.916457e-31  1.0       NaN      NaN\n"
     ]
    }
   ],
   "source": [
    "print(\"ANOVA results:\\n\")\n",
    "print(anova_result)"
   ]
  },
  {
   "cell_type": "code",
   "execution_count": 21,
   "id": "50513c04-e31e-4778-bc59-2bc975e2f885",
   "metadata": {},
   "outputs": [],
   "source": [
    "anova_summary = anova_result.reset_index()\n",
    "anova_summary.columns = ['Source', 'sum_sq', 'df', 'F', 'PR(>F)']"
   ]
  },
  {
   "cell_type": "code",
   "execution_count": 22,
   "id": "b82c0da8-e8ac-4537-bab6-9f0bfa8bea1a",
   "metadata": {},
   "outputs": [
    {
     "data": {
      "image/png": "[encoded data removed]",
      "text/plain": [
       "<Figure size 640x480 with 1 Axes>"
      ]
     },
     "metadata": {},
     "output_type": "display_data"
    }
   ],
   "source": [
    "sns.barplot(x='Source', y='F', data=anova_summary, palette='viridis')\n",
    "plt.title('Mean Squares (Effect Sizes)')\n",
    "plt.xlabel('Source')\n",
    "plt.ylabel('Variance (F-value)')\n",
    "plt.show()"
   ]
  },
  {
   "cell_type": "markdown",
   "id": "fd8ed338-d048-49e3-90a4-6d45cfa176b1",
   "metadata": {},
   "source": [
    "##In conclusion, the ANOVA results suggest that the District variable does not have a significant effect on the mean of No_of_Meals_per_day."
   ]
  },
  {
   "cell_type": "markdown",
   "id": "2002ed2a-0c60-4b0b-b46f-b2805086cb0d",
   "metadata": {},
   "source": [
    "# Multiple Regression Analysis"
   ]
  },
  {
   "cell_type": "code",
   "execution_count": 23,
   "id": "8e5782d0-8d62-4ab0-b143-82a148a318c3",
   "metadata": {},
   "outputs": [],
   "source": [
    "import statsmodels.api as sm"
   ]
  },
  {
   "cell_type": "markdown",
   "id": "c8e5a9db-7d4d-4be1-aa11-75c4595fb97a",
   "metadata": {},
   "source": [
    "# Define the dependent and independent variables"
   ]
  },
  {
   "cell_type": "code",
   "execution_count": 24,
   "id": "1fd5a912-5fcd-454e-aabb-ec7da7046bf0",
   "metadata": {},
   "outputs": [],
   "source": [
    "y = ap_data['No_of_Meals_per_day']\n",
    "X = ap_data[['Region', 'District', 'FOD_Sub_Region', 'foodtotal_q', 'fv_tot']]\n"
   ]
  },
  {
   "cell_type": "markdown",
   "id": "ba92d897-10ef-4325-aa1b-3b93fd76a7e0",
   "metadata": {},
   "source": [
    "# Add a constant to the independent variables"
   ]
  },
  {
   "cell_type": "code",
   "execution_count": 25,
   "id": "751f0b88-2997-40d6-b4c8-a0ca0f06dd9b",
   "metadata": {},
   "outputs": [],
   "source": [
    "X = sm.add_constant(X)"
   ]
  },
  {
   "cell_type": "markdown",
   "id": "c55e361a-773e-442e-a937-e42f8e456f8e",
   "metadata": {},
   "source": [
    "# Fit the multiple regression model"
   ]
  },
  {
   "cell_type": "code",
   "execution_count": 26,
   "id": "2966923e-2870-422a-bda7-1a839cc0774b",
   "metadata": {},
   "outputs": [],
   "source": [
    "model = sm.OLS(y, X).fit()"
   ]
  },
  {
   "cell_type": "markdown",
   "id": "35f55435-b51a-4f0b-abcc-a3a79cd10021",
   "metadata": {},
   "source": [
    "# Print the regression summary"
   ]
  },
  {
   "cell_type": "code",
   "execution_count": 27,
   "id": "18ced815-b144-4061-a137-22a101dfbec3",
   "metadata": {},
   "outputs": [
    {
     "name": "stdout",
     "output_type": "stream",
     "text": [
      "                             OLS Regression Results                            \n",
      "===============================================================================\n",
      "Dep. Variable:     No_of_Meals_per_day   R-squared:                        -inf\n",
      "Model:                             OLS   Adj. R-squared:                   -inf\n",
      "Method:                  Least Squares   F-statistic:                       nan\n",
      "Date:                 Sun, 23 Jun 2024   Prob (F-statistic):                nan\n",
      "Time:                         15:11:32   Log-Likelihood:                 103.44\n",
      "No. Observations:                    3   AIC:                            -200.9\n",
      "Df Residuals:                        0   BIC:                            -203.6\n",
      "Df Model:                            2                                         \n",
      "Covariance Type:             nonrobust                                         \n",
      "==================================================================================\n",
      "                     coef    std err          t      P>|t|      [0.025      0.975]\n",
      "----------------------------------------------------------------------------------\n",
      "const           7.003e-07        inf          0        nan         nan         nan\n",
      "Region             0.0002        inf          0        nan         nan         nan\n",
      "District          -0.0006        inf         -0        nan         nan         nan\n",
      "FOD_Sub_Region     0.0011        inf          0        nan         nan         nan\n",
      "foodtotal_q       -0.0002        inf         -0        nan         nan         nan\n",
      "fv_tot             0.0008        inf          0        nan         nan         nan\n",
      "==============================================================================\n",
      "Omnibus:                          nan   Durbin-Watson:                   1.000\n",
      "Prob(Omnibus):                    nan   Jarque-Bera (JB):                0.531\n",
      "Skew:                           0.707   Prob(JB):                        0.767\n",
      "Kurtosis:                       1.500   Cond. No.                         943.\n",
      "==============================================================================\n",
      "\n",
      "Notes:\n",
      "[1] Standard Errors assume that the covariance matrix of the errors is correctly specified.\n",
      "[2] The input rank is higher than the number of observations.\n"
     ]
    },
    {
     "name": "stderr",
     "output_type": "stream",
     "text": [
      "C:\\Users\\HP\\anaconda3\\Lib\\site-packages\\statsmodels\\stats\\stattools.py:74: ValueWarning: omni_normtest is not valid with less than 8 observations; 3 samples were given.\n",
      "  warn(\"omni_normtest is not valid with less than 8 observations; %i \"\n",
      "C:\\Users\\HP\\anaconda3\\Lib\\site-packages\\statsmodels\\regression\\linear_model.py:1781: RuntimeWarning: divide by zero encountered in scalar divide\n",
      "  return 1 - self.ssr/self.centered_tss\n",
      "C:\\Users\\HP\\anaconda3\\Lib\\site-packages\\statsmodels\\regression\\linear_model.py:1794: RuntimeWarning: divide by zero encountered in divide\n",
      "  return 1 - (np.divide(self.nobs - self.k_constant, self.df_resid)\n",
      "C:\\Users\\HP\\anaconda3\\Lib\\site-packages\\statsmodels\\regression\\linear_model.py:1716: RuntimeWarning: divide by zero encountered in scalar divide\n",
      "  return np.dot(wresid, wresid) / self.df_resid\n"
     ]
    }
   ],
   "source": [
    "print(model.summary())"
   ]
  },
  {
   "cell_type": "markdown",
   "id": "92ae5b09-00f0-4f5f-a1e4-32c991c654d2",
   "metadata": {},
   "source": [
    "# Regression Diagnostics"
   ]
  },
  {
   "cell_type": "markdown",
   "id": "0fab6a9a-9ee8-40f2-809b-8e72c7abfa3e",
   "metadata": {},
   "source": [
    "### 1. Linearity"
   ]
  },
  {
   "cell_type": "code",
   "execution_count": 28,
   "id": "bce5c0ca-e4c3-40c5-ab01-32c7bd708543",
   "metadata": {},
   "outputs": [
    {
     "data": {
      "image/png": "[encoded data removed]",
      "text/plain": [
       "<Figure size 640x480 with 1 Axes>"
      ]
     },
     "metadata": {},
     "output_type": "display_data"
    }
   ],
   "source": [
    "sns.scatterplot(x=model.fittedvalues, y=model.resid)\n",
    "plt.xlabel('Fitted Values')\n",
    "plt.ylabel('Residuals')\n",
    "plt.title('Linearity Check')\n",
    "plt.show()"
   ]
  },
  {
   "cell_type": "markdown",
   "id": "9fa616fd-c63e-4893-8ce0-004b782471de",
   "metadata": {},
   "source": [
    "### 2. Homoscedasticity"
   ]
  },
  {
   "cell_type": "code",
   "execution_count": 29,
   "id": "c1b41608-5102-40b6-8fcb-5999b6923dc2",
   "metadata": {},
   "outputs": [
    {
     "data": {
      "image/png": "[encoded data removed]",
      "text/plain": [
       "<Figure size 640x480 with 1 Axes>"
      ]
     },
     "metadata": {},
     "output_type": "display_data"
    }
   ],
   "source": [
    "sns.scatterplot(x=model.fittedvalues, y=model.resid**2)\n",
    "plt.xlabel('Fitted Values')\n",
    "plt.ylabel('Squared Residuals')\n",
    "plt.title('Homoscedasticity Check')\n",
    "plt.show()"
   ]
  },
  {
   "cell_type": "markdown",
   "id": "f9610bcb-bb8a-4711-988d-9671a4865f32",
   "metadata": {},
   "source": [
    "### 3. Normality of Residuals"
   ]
  },
  {
   "cell_type": "code",
   "execution_count": 30,
   "id": "dd61c686-c7e3-4662-b822-c02d79e58ea2",
   "metadata": {},
   "outputs": [
    {
     "name": "stderr",
     "output_type": "stream",
     "text": [
      "C:\\Users\\HP\\anaconda3\\Lib\\site-packages\\seaborn\\_oldcore.py:1119: FutureWarning: use_inf_as_na option is deprecated and will be removed in a future version. Convert inf values to NaN before operating instead.\n",
      "  with pd.option_context('mode.use_inf_as_na', True):\n"
     ]
    },
    {
     "data": {
      "image/png": "[encoded data removed]",
      "text/plain": [
       "<Figure size 500x500 with 1 Axes>"
      ]
     },
     "metadata": {},
     "output_type": "display_data"
    }
   ],
   "source": [
    "sns.displot(model.resid, kde=False)\n",
    "plt.title('Normality of Residuals')\n",
    "plt.show()"
   ]
  },
  {
   "cell_type": "markdown",
   "id": "1d651e39-d381-4b86-a644-d055c14a736b",
   "metadata": {},
   "source": [
    "### 4. Multicollinearity"
   ]
  },
  {
   "cell_type": "code",
   "execution_count": 31,
   "id": "b24670a9-2cfe-4b91-a44b-9d715d339f23",
   "metadata": {},
   "outputs": [
    {
     "name": "stdout",
     "output_type": "stream",
     "text": [
      "   VIF        features\n",
      "0  0.0           const\n",
      "1  inf          Region\n",
      "2  inf        District\n",
      "3  inf  FOD_Sub_Region\n",
      "4  inf     foodtotal_q\n",
      "5  inf          fv_tot\n"
     ]
    },
    {
     "name": "stderr",
     "output_type": "stream",
     "text": [
      "C:\\Users\\HP\\anaconda3\\Lib\\site-packages\\statsmodels\\regression\\linear_model.py:1781: RuntimeWarning: divide by zero encountered in scalar divide\n",
      "  return 1 - self.ssr/self.centered_tss\n",
      "C:\\Users\\HP\\anaconda3\\Lib\\site-packages\\statsmodels\\stats\\outliers_influence.py:198: RuntimeWarning: divide by zero encountered in scalar divide\n",
      "  vif = 1. / (1. - r_squared_i)\n"
     ]
    }
   ],
   "source": [
    "from statsmodels.stats.outliers_influence import variance_inflation_factor\n",
    "vif = pd.DataFrame()\n",
    "vif['VIF'] = [variance_inflation_factor(X.values, i) for i in range(X.shape[1])]\n",
    "vif['features'] = X.columns\n",
    "print(vif)"
   ]
  },
  {
   "cell_type": "markdown",
   "id": "fa3114b0-55f9-4a1a-a4b7-4e4942592eb3",
   "metadata": {},
   "source": [
    "### 5. Autocorrelation"
   ]
  },
  {
   "cell_type": "code",
   "execution_count": 32,
   "id": "867b949c-ead3-46ab-9c0d-feb69e47aad4",
   "metadata": {},
   "outputs": [
    {
     "name": "stdout",
     "output_type": "stream",
     "text": [
      "Durbin-Watson statistic: 1.0\n"
     ]
    }
   ],
   "source": [
    "from statsmodels.stats.stattools import durbin_watson\n",
    "dw_stat = durbin_watson(model.resid)\n",
    "print(f'Durbin-Watson statistic: {dw_stat}')"
   ]
  },
  {
   "cell_type": "code",
   "execution_count": null,
   "id": "07f3b2d9-314d-4ec1-971a-35862b3a0656",
   "metadata": {},
   "outputs": [],
   "source": []
  },
  {
   "cell_type": "code",
   "execution_count": null,
   "id": "75ae5038-9859-44f4-8181-c0f3b3774ca8",
   "metadata": {},
   "outputs": [],
   "source": []
  }
 ],
 "metadata": {
  "kernelspec": {
   "display_name": "Python 3 (ipykernel)",
   "language": "python",
   "name": "python3"
  },
  "language_info": {
   "codemirror_mode": {
    "name": "ipython",
    "version": 3
   },
   "file_extension": ".py",
   "mimetype": "text/x-python",
   "name": "python",
   "nbconvert_exporter": "python",
   "pygments_lexer": "ipython3",
   "version": "3.11.7"
  }
 },
 "nbformat": 4,
 "nbformat_minor": 5
}
